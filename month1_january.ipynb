{
 "cells": [
  {
   "cell_type": "markdown",
   "metadata": {},
   "source": [
    "# January 01, 2025\n",
    "\n",
    "[1422. Maximum Score After Splitting a String (Easy)](https://leetcode.com/problems/maximum-score-after-splitting-a-string/description/?envType=daily-question&envId=2025-01-01)\n",
    "\n",
    "\n",
    "### Instruction\n",
    "Given a string s of zeros and ones, return the maximum score after splitting the string into two non-empty substrings (i.e. left substring and right substring).\n",
    "\n",
    "The score after splitting a string is the number of zeros in the left substring plus the number of ones in the right substring.\n",
    "\n",
    "### Approach\n",
    "This approach counts the total 1's first. Then iterates until the second-last letter to count the 1's and o's, tracking the max as it passes through. The time ccomplexity is O(n)."
   ]
  },
  {
   "cell_type": "code",
   "execution_count": 4,
   "metadata": {},
   "outputs": [
    {
     "name": "stdout",
     "output_type": "stream",
     "text": [
      "6\n"
     ]
    }
   ],
   "source": [
    "def maxScore(s: str) -> int:\n",
    "    count0 = 0    # left score\n",
    "    count1 = 0    # right score\n",
    "    ans = 0\n",
    "    \n",
    "    # count total 1's\n",
    "    for i in range(len(s)):\n",
    "        if s[i] == '1':\n",
    "            count1 += 1\n",
    "\n",
    "    # get scores\n",
    "    for i in range(len(s) - 1):\n",
    "        if s[i] == '0':\n",
    "            count0 += 1\n",
    "        else:\n",
    "            count1 += -1\n",
    "        ans = max(count0 + count1, ans)\n",
    "\n",
    "    return ans\n",
    "\n",
    "result = maxScore(\"0011101\")\n",
    "print(result)\n"
   ]
  }
 ],
 "metadata": {
  "kernelspec": {
   "display_name": "Python 3",
   "language": "python",
   "name": "python3"
  },
  "language_info": {
   "codemirror_mode": {
    "name": "ipython",
    "version": 3
   },
   "file_extension": ".py",
   "mimetype": "text/x-python",
   "name": "python",
   "nbconvert_exporter": "python",
   "pygments_lexer": "ipython3",
   "version": "3.10.11"
  }
 },
 "nbformat": 4,
 "nbformat_minor": 2
}
