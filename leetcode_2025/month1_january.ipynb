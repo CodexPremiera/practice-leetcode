{
 "cells": [
  {
   "cell_type": "markdown",
   "metadata": {},
   "source": [
    "# January 01, 2025\n",
    "\n",
    "[1422. Maximum Score After Splitting a String (Easy)](https://leetcode.com/problems/maximum-score-after-splitting-a-string/description/?envType=daily-question&envId=2025-01-01)\n",
    "\n",
    "\n",
    "### Instruction\n",
    "Given a string s of zeros and ones, return the maximum score after splitting the string into two non-empty substrings (i.e. left substring and right substring).\n",
    "\n",
    "The score after splitting a string is the number of zeros in the left substring plus the number of ones in the right substring.\n",
    "\n",
    "### Approach\n",
    "This approach counts the total 1's first. Then iterates until the second-last letter to count the 1's and o's, tracking the max as it passes through. The time complexity is O(n)."
   ]
  },
  {
   "cell_type": "code",
   "metadata": {
    "ExecuteTime": {
     "end_time": "2025-01-29T14:07:08.235374Z",
     "start_time": "2025-01-29T14:07:08.212985Z"
    }
   },
   "source": [
    "import collections\n",
    "\n",
    "\n",
    "def max_score(s: str) -> int:\n",
    "    count0 = 0    # left score\n",
    "    count1 = 0    # right score\n",
    "    ans = 0\n",
    "    \n",
    "    # count total 1's\n",
    "    for i in range(len(s)):\n",
    "        if s[i] == '1':\n",
    "            count1 += 1\n",
    "\n",
    "    # get scores\n",
    "    for i in range(len(s) - 1):\n",
    "        if s[i] == '0':\n",
    "            count0 += 1\n",
    "        else:\n",
    "            count1 += -1\n",
    "        ans = max(count0 + count1, ans)\n",
    "\n",
    "    return ans\n",
    "\n",
    "result = max_score(\"0011101\")\n",
    "print(result)\n"
   ],
   "outputs": [
    {
     "name": "stdout",
     "output_type": "stream",
     "text": [
      "6\n"
     ]
    }
   ],
   "execution_count": 1
  },
  {
   "cell_type": "markdown",
   "metadata": {},
   "source": [
    "# January 02, 2025\n",
    "\n",
    "[2559. Count Vowel Strings in Ranges (Medium)](https://leetcode.com/problems/count-vowel-strings-in-ranges/description/?envType=daily-question&envId=2025-01-02)\n",
    "\n",
    "\n",
    "### Instruction\n",
    "You are given a 0-indexed array of strings words and a 2D array of integers queries.\n",
    "\n",
    "Each query queries[i] = [li, ri] asks us to find the number of strings present in the range li to ri (both inclusive) of words that start and end with a vowel.\n",
    "\n",
    "Return an array ans of size queries.length, where ans[i] is the answer to the ith query.\n",
    "\n",
    "Note that the vowel letters are 'a', 'e', 'i', 'o', and 'u'.\n",
    "\n",
    "### Approach\n",
    "Map the cumulative sum of the vowel strings in words. Then get the count in the query range by subtracting `query[0] - 1` and `query[1]`"
   ]
  },
  {
   "cell_type": "code",
   "metadata": {
    "ExecuteTime": {
     "end_time": "2025-01-29T14:07:08.266361Z",
     "start_time": "2025-01-29T14:07:08.244147Z"
    }
   },
   "source": [
    "from typing import List\n",
    "\n",
    "def vowel_strings(words: List[str], queries: List[List[int]]) -> List[int]:\n",
    "    vowels = {'a', 'e', 'i', 'o', 'u'}\n",
    "    \n",
    "    # map the words with cumulative sum of vowel stings \n",
    "    word_count = len(words)\n",
    "    word_map = [0] * (word_count + 1)\n",
    "\n",
    "    for i in range(word_count):\n",
    "        word = words[i]\n",
    "        word_map[i] = word_map[i-1]\n",
    "        if word[0] in vowels and word[-1] in vowels:\n",
    "            word_map[i] += 1\n",
    "\n",
    "    # answer queries: count the valid words in the range in each query\n",
    "    ans = []\n",
    "    for query in queries:\n",
    "        start = query[0] - 1\n",
    "        end = query[1]\n",
    "        ans.append(word_map[end] - word_map[start])\n",
    "\n",
    "    return ans\n",
    "\n",
    "word_list = [\"aba\",\"bcb\",\"ece\",\"aa\",\"e\"]\n",
    "queries_list = [[0,2],[1,4],[1,1]]\n",
    "\n",
    "print(vowel_strings(word_list, queries_list))\n",
    "        "
   ],
   "outputs": [
    {
     "name": "stdout",
     "output_type": "stream",
     "text": [
      "[2, 3, 0]\n"
     ]
    }
   ],
   "execution_count": 2
  },
  {
   "cell_type": "markdown",
   "metadata": {},
   "source": [
    "# January 03, 2025\n",
    "\n",
    "[2270. Number of Ways to Split Array (Medium)](https://leetcode.com/problems/number-of-ways-to-split-array/description/?envType=daily-question&envId=2025-01-03)\n",
    "\n",
    "\n",
    "### Instruction\n",
    "You are given a 0-indexed integer array nums of length n.\n",
    "\n",
    "nums contains a valid split at index i if the following are true:\n",
    "\n",
    "The sum of the first i + 1 elements is greater than or equal to the sum of the last n - i - 1 elements.\n",
    "There is at least one element to the right of i. That is, 0 <= i < n - 1.\n",
    "Return the number of valid splits in nums.\n",
    "\n",
    "\n",
    "### Approach\n",
    "Let `left_sum = 0` and `right_sum = sum of nums`. For each num in nums, add it to left_sum and deduct to the right_sum. \n",
    "Then compare the current left_sum and right_sum: if it is `>=`, then increment the valid count."
   ]
  },
  {
   "cell_type": "code",
   "metadata": {
    "ExecuteTime": {
     "end_time": "2025-01-29T14:07:08.281807Z",
     "start_time": "2025-01-29T14:07:08.268491Z"
    }
   },
   "source": [
    "from typing import List\n",
    "\n",
    "def ways_to_split_array(nums: List[int]) -> int:\n",
    "    left_sum = 0\n",
    "    right_sum = sum(nums)\n",
    "    valid_count = 0\n",
    "\n",
    "    for i in range(len(nums) - 1):\n",
    "        left_sum += nums[i]\n",
    "        right_sum -= nums[i]\n",
    "        if left_sum >= right_sum:\n",
    "            valid_count += 1\n",
    "\n",
    "    return valid_count\n",
    "\n",
    "print(ways_to_split_array([10, 4, -8, 7]))"
   ],
   "outputs": [
    {
     "name": "stdout",
     "output_type": "stream",
     "text": [
      "2\n"
     ]
    }
   ],
   "execution_count": 3
  },
  {
   "cell_type": "markdown",
   "metadata": {},
   "source": [
    "# January 04, 2025\n",
    "\n",
    "[1930. Unique Length-3 Palindromic Subsequences (Medium)](https://leetcode.com/problems/unique-length-3-palindromic-subsequences/description/?envType=daily-question&envId=2025-01-04)\n",
    "\n",
    "\n",
    "### Instruction\n",
    "Given a string s, return the number of unique palindromes of length three that are a subsequence of s.\n",
    "\n",
    "Note that even if there are multiple ways to obtain the same subsequence, it is still only counted once.\n",
    "\n",
    "A palindrome is a string that reads the same forwards and backwards.\n",
    "\n",
    "A subsequence of a string is a new string generated from the original string with some characters (can be none) deleted without changing the relative order of the remaining characters.\n",
    "\n",
    "For example, \"ace\" is a subsequence of \"abcde\".\n",
    "\n",
    "\n",
    "### Approach\n",
    "Look for pairs of same letters from the flanks of the string. When a pair is found, the *palindrome count = size of the set of letters from substring* between the pair."
   ]
  },
  {
   "cell_type": "code",
   "metadata": {
    "ExecuteTime": {
     "end_time": "2025-01-29T14:07:08.328411Z",
     "start_time": "2025-01-29T14:07:08.304368Z"
    }
   },
   "source": [
    "def count_palindromic_subsequence(s: str) -> int:\n",
    "    # make a set of checked letters and init palindrome count to 0\n",
    "    checked_pairs = set()\n",
    "    palindrome_count = 0\n",
    "    s_len = len(s)\n",
    "    \n",
    "    # start letter: iterate from s[0] to s[-2]\n",
    "    for start in range(s_len-2):\n",
    "        # skip checked start letters\n",
    "        if s[start] in checked_pairs:\n",
    "            continue\n",
    "\n",
    "        # record letter as checked\n",
    "        checked_pairs.add(s[start])\n",
    "\n",
    "        # new start letter is found, find its pair from the end\n",
    "        for end in range(s_len-1, start+1, -1):\n",
    "\n",
    "            # if pair found, get palindrome count by turning mid substr into set and count the letters \n",
    "            if s[start] == s[end]:\n",
    "                palindrome_count += len(set(s[start+1:end]))\n",
    "                break\n",
    "                \n",
    "    return palindrome_count\n",
    "\n",
    "s_length = count_palindromic_subsequence(\"bbcbaba\")\n",
    "print(s_length)"
   ],
   "outputs": [
    {
     "name": "stdout",
     "output_type": "stream",
     "text": [
      "4\n"
     ]
    }
   ],
   "execution_count": 4
  },
  {
   "cell_type": "markdown",
   "metadata": {},
   "source": [
    "# January 05, 2025\n",
    "\n",
    "[2381. Shifting Letters II (Medium)](https://leetcode.com/problems/shifting-letters-ii/description/?envType=daily-question&envId=2025-01-05)\n",
    "\n",
    "\n",
    "### Instruction\n",
    "You are given a string s of lowercase English letters and a 2D integer array shifts where shifts[i] = [start[i], end[i], direction[i]]. For every i, shift the characters in s from the index start[i] to the index endi (inclusive) forward if direction[i] = 1, or shift the characters backward if direction[i] = 0.\n",
    "\n",
    "Shifting a character forward means replacing it with the next letter in the alphabet (wrapping around so that 'z' becomes 'a'). Similarly, shifting a character backward means replacing it with the previous letter in the alphabet (wrapping around so that 'a' becomes 'z').\n",
    "\n",
    "Return the final string after all such shifts to s are applied.\n",
    "\n",
    "\n",
    "### Approach\n",
    "Use differential array with size equal to one more the num of letters.\n",
    "\n",
    "Marking Changes:\n",
    "- At start, you apply the change (increment or decrement).\n",
    "- At end+1, you \"undo\" the change to stop its effect beyond the range.\n",
    "\n",
    "Then, propagating the changes: when iterating over the differential array, accumulate the shifts and apply them to the characters in a single pass."
   ]
  },
  {
   "cell_type": "code",
   "metadata": {
    "ExecuteTime": {
     "end_time": "2025-01-29T14:07:08.469738Z",
     "start_time": "2025-01-29T14:07:08.450677Z"
    }
   },
   "source": [
    "from typing import List\n",
    "\n",
    "def shifting_letters(s: str, shifts: List[List[int]]) -> str:\n",
    "    n = len(s)\n",
    "    shift_diffs = [0] * (n + 1)\n",
    "    \n",
    "    # populate the differential array\n",
    "    for start, end, direction in shifts:\n",
    "        increment = 1 if direction == 1 else -1\n",
    "        shift_diffs[start] += increment\n",
    "        shift_diffs[end + 1] -= increment\n",
    "    \n",
    "    # compute the cumulative shifts\n",
    "    cumulative_shift = 0\n",
    "    num_string = []\n",
    "    for i, letter in enumerate(s):\n",
    "        cumulative_shift += shift_diffs[i]\n",
    "        shifted_char = chr((ord(letter) - 97 + cumulative_shift) % 26 + 97)\n",
    "        num_string.append(shifted_char)\n",
    "    \n",
    "    return ''.join(num_string)\n",
    "\n",
    "\n",
    "print(shifting_letters(\"abc\", [[0, 1, 0], [1, 2, 1], [0, 2, 1]]))\n",
    "print(shifting_letters(\"dztz\", [[0, 0, 0], [1, 1, 1]]))"
   ],
   "outputs": [
    {
     "name": "stdout",
     "output_type": "stream",
     "text": [
      "ace\n",
      "catz\n"
     ]
    }
   ],
   "execution_count": 5
  },
  {
   "cell_type": "markdown",
   "metadata": {},
   "source": [
    "# January 06, 2025\n",
    "\n",
    "[1769. Minimum Number of Operations to Move All Balls to Each Box (Medium)](https://leetcode.com/problems/minimum-number-of-operations-to-move-all-balls-to-each-box/description/)\n",
    "\n",
    "\n",
    "### Instruction\n",
    "You have n boxes. You are given a binary string boxes of length n, where boxes[i] is '0' if the ith box is empty, and '1' if it contains one ball.\n",
    "\n",
    "In one operation, you can move one ball from a box to an adjacent box. Box i is adjacent to box j if abs(i - j) == 1. Note that after doing so, there may be more than one ball in some boxes.\n",
    "\n",
    "Return an array answer of size n, where answer[i] is the minimum number of operations needed to move all the balls to the ith box.\n",
    "\n",
    "Each answer[i] is calculated considering the initial state of the boxes.\n",
    "\n",
    "\n",
    "### Approach\n",
    "Suppose in an array of 6 boxes, the only one with the ball is at index 2 (`\"001000\"`). For the boxes[0] to boxes[1], the moves are 0. For the rest, it is 1, 2, 3 respectively, hence the cummulative sum from boxes[2]. The answer array would then be = [0, 0, 1, 2, 3]. \n",
    "\n",
    "Now, given the same array of 6 boxes as above, there is another ball at index 3 (`\"001100\"`). From boxes[3], the cummulative sum would be 1 and 2 respectively. Therefore, the answer array is nothing more than the combination of the two answer arrays: `[0, 0, 0, 1, 2, 3] + [0, 0, 0, 0, 1, 2] = [0, 0, 0, 1, 3, 5]`\n",
    "\n",
    "This process can be simplified if by recording the balls: \n",
    " - From boxes[0] to boxes[2], no balls are found before, so next index += 0 \n",
    " - From boxes[3] to boxes[3], 1 ball is found before, so next index += 1\n",
    " - From boxes[4] to boxes[5], 2 balls are found before, so next index += 2\n",
    "\n",
    "Therefore, to find the moves in an index, add the current move. Then update the ball count and increment the next move with the current ball count. \n",
    "\n",
    "However, this only works from left to right. To account for right to left, just do the same proces in reverse and sum up the move for each position."
   ]
  },
  {
   "cell_type": "code",
   "metadata": {
    "ExecuteTime": {
     "end_time": "2025-01-29T14:07:08.578426Z",
     "start_time": "2025-01-29T14:07:08.566101Z"
    }
   },
   "source": [
    "from typing import List\n",
    "\n",
    "def min_operations(boxes: str) -> List[int]:\n",
    "    n = len(boxes)\n",
    "    answer = [0] * n\n",
    "\n",
    "    # initialize the moves and the balls\n",
    "    left_moves = 0\n",
    "    left_balls = 0\n",
    "    right_moves = 0\n",
    "    right_balls = 0\n",
    "\n",
    "\n",
    "    for i in range(n):\n",
    "        # left pass\n",
    "        answer[i] += left_moves         # add the moves for the curr position\n",
    "        left_balls += int(boxes[i])     # update the balls\n",
    "        left_moves += left_balls        # increment moves with ball count\n",
    "\n",
    "        # right pass\n",
    "        j = n - 1 - i\n",
    "        answer[j] += right_moves\n",
    "        right_balls += int(boxes[j])\n",
    "        right_moves += right_balls\n",
    "\n",
    "    return answer\n",
    "\n",
    "\n",
    "print(min_operations(\"001011\"))"
   ],
   "outputs": [
    {
     "name": "stdout",
     "output_type": "stream",
     "text": [
      "[11, 8, 5, 4, 3, 4]\n"
     ]
    }
   ],
   "execution_count": 6
  },
  {
   "cell_type": "markdown",
   "metadata": {},
   "source": [
    "# January 07, 2025\n",
    "\n",
    "[1408. String Matching in an Array (Easy)](https://leetcode.com/problems/string-matching-in-an-array/description/?envType=daily-question&envId=2025-01-07)\n",
    "\n",
    "\n",
    "### Instruction\n",
    "Given an array of string words, return all strings in words that is a substring of another word. You can return the answer in any order.\n",
    "\n",
    "A substring is a contiguous sequence of characters within a string\n",
    "\n",
    "### Approach\n",
    "Just combine the array into a string then count the instances of each string. IF it appears twice, it's good."
   ]
  },
  {
   "cell_type": "code",
   "metadata": {
    "ExecuteTime": {
     "end_time": "2025-01-29T14:07:08.672059Z",
     "start_time": "2025-01-29T14:07:08.658201Z"
    }
   },
   "source": [
    "from typing import List\n",
    "\n",
    "def string_matching(words: List[str]) -> List[str]:\n",
    "    r=' '.join(words)\n",
    "    s=[i for i in words if r.count(i)>1]\n",
    "    return s\n",
    "\n",
    "print(string_matching([\"mass\", \"as\", \"hero\", \"superhero\"]))"
   ],
   "outputs": [
    {
     "name": "stdout",
     "output_type": "stream",
     "text": [
      "['as', 'hero']\n"
     ]
    }
   ],
   "execution_count": 7
  },
  {
   "cell_type": "markdown",
   "metadata": {},
   "source": [
    "# January 08, 2025\n",
    "\n",
    "[3042. Count Prefix and Suffix Pairs I (Easy)](https://leetcode.com/problems/count-prefix-and-suffix-pairs-i/description/?envType=daily-question&envId=2025-01-08)\n",
    "\n",
    "\n",
    "### Instruction\n",
    "You are given a 0-indexed string array words.\n",
    "\n",
    "Let's define a boolean function isPrefixAndSuffix that takes two strings, str1 and str2: \n",
    "isPrefixAndSuffix(str1, str2) returns true if str1 is both a prefix and a suffix of str2, and false otherwise.\n",
    "\n",
    "For example, isPrefixAndSuffix(\"aba\", \"ababa\") is true because \"aba\" is a prefix of \"ababa\" and also a suffix, but isPrefixAndSuffix(\"abc\", \"abcd\") is false.\n",
    "\n",
    "Return an integer denoting the number of index pairs (i, j) such that i < j, and isPrefixAndSuffix(words[i], words[j]) is true.\n",
    "\n",
    "### Approach\n",
    "Brute force"
   ]
  },
  {
   "cell_type": "code",
   "metadata": {
    "ExecuteTime": {
     "end_time": "2025-01-29T14:07:08.765871Z",
     "start_time": "2025-01-29T14:07:08.743827Z"
    }
   },
   "source": [
    "from typing import List\n",
    "\n",
    "def is_prefix_and_suffix(str1, str2):\n",
    "    sub_len = len(str1)\n",
    "    return str2[0:sub_len] == str1 and str2[-sub_len:len(str2)] == str1\n",
    "\n",
    "\n",
    "def count_prefix_suffix_pairs(words: List[str]):\n",
    "    length = len(words)\n",
    "    #words.sort(key=len)\n",
    "    count = 0\n",
    "\n",
    "    for index, word in enumerate(words):\n",
    "        for i in range(index + 1, length):\n",
    "            count += 1 if is_prefix_and_suffix(word, words[i]) else 0\n",
    "\n",
    "    return count\n",
    "\n",
    "\n",
    "print(count_prefix_suffix_pairs([\"pa\", \"papa\", \"ma\", \"mama\"]))"
   ],
   "outputs": [
    {
     "name": "stdout",
     "output_type": "stream",
     "text": [
      "2\n"
     ]
    }
   ],
   "execution_count": 8
  },
  {
   "cell_type": "markdown",
   "metadata": {},
   "source": [
    "# January 09, 2025\n",
    "\n",
    "[2185. Counting Words With a Given Prefix (Easy)](https://leetcode.com/problems/counting-words-with-a-given-prefix/?envType=daily-question&envId=2025-01-09)\n",
    "\n",
    "\n",
    "### Instruction\n",
    "You are given an array of strings words and a string pref.\n",
    "\n",
    "Return the number of strings in words that contain pref as a prefix.\n",
    "\n",
    "A prefix of a string s is any leading contiguous substring of s.\n",
    "\n",
    "### Approach\n",
    "Brute force"
   ]
  },
  {
   "cell_type": "code",
   "metadata": {
    "ExecuteTime": {
     "end_time": "2025-01-29T14:07:08.828615Z",
     "start_time": "2025-01-29T14:07:08.815146Z"
    }
   },
   "source": [
    "from typing import List\n",
    "\n",
    "def prefix_count(words: List[str], pref: str) -> int:\n",
    "        count = 0\n",
    "        pref_len = len(pref)\n",
    "        for word in words:\n",
    "            if len(word) < pref_len:\n",
    "                continue\n",
    "\n",
    "            count += 1 if word[0:pref_len] == pref else 0\n",
    "\n",
    "        return count\n",
    "\n",
    "\n",
    "print(prefix_count([\"pay\", \"attention\", \"practice\", \"attend\"], \"at\"))"
   ],
   "outputs": [
    {
     "name": "stdout",
     "output_type": "stream",
     "text": [
      "2\n"
     ]
    }
   ],
   "execution_count": 9
  },
  {
   "cell_type": "markdown",
   "metadata": {},
   "source": [
    "# January 10, 2025\n",
    "\n",
    "[916. Word Subsets (Medium)](https://leetcode.com/problems/word-subsets/?envType=daily-question&envId=2025-01-10)\n",
    "\n",
    "\n",
    "### Instruction\n",
    "You are given two string arrays words1 and words2.\n",
    "\n",
    "A string b is a subset of string a if every letter in b occurs in a including multiplicity.\n",
    "\n",
    "For example, \"wrr\" is a subset of \"warrior\" but is not a subset of \"world\".\n",
    "A string a from words1 is universal if for every string b in words2, b is a subset of a.\n",
    "\n",
    "Return an array of all the universal strings in words1. You may return the answer in any order.\n",
    "\n",
    "\n",
    "### Approach\n",
    "???\n"
   ]
  },
  {
   "cell_type": "code",
   "metadata": {
    "ExecuteTime": {
     "end_time": "2025-01-29T14:07:08.953147Z",
     "start_time": "2025-01-29T14:07:08.939409Z"
    }
   },
   "source": [
    "from typing import List\n",
    "\n",
    "def word_subsets(words1: List[str], words2: List[str]) -> List[str]:\n",
    "    # declare dict for frequency matrix of letters\n",
    "    d={}\n",
    "\n",
    "    ans=set(words1)\n",
    "\n",
    "    # count the occur of letters for each word and add the max to dict\n",
    "    for word in words2:\n",
    "        for letter in word:\n",
    "            count=word.count(letter)\n",
    "            if letter not in d or count>d[letter]:\n",
    "                d[letter]=count\n",
    "    \n",
    "    # look for universal sets\n",
    "    for word in words1:\n",
    "        for letter in d:\n",
    "            if word.count(letter)<d[letter]:\n",
    "                ans.remove(word)\n",
    "                break\n",
    "    return list(ans)\n",
    "    \n",
    "\n",
    "\n",
    "words = [\"amazon\",\"apople\",\"apoople\",\"facebook\",\"google\",\"leetcode\"]\n",
    "print(word_subsets(words, [\"lo\", \"eo\", \"pp\"]))\n"
   ],
   "outputs": [
    {
     "name": "stdout",
     "output_type": "stream",
     "text": [
      "['apople', 'apoople']\n"
     ]
    }
   ],
   "execution_count": 10
  },
  {
   "cell_type": "markdown",
   "metadata": {},
   "source": [
    "# January 11, 2025\n",
    "\n",
    "[1400. Construct K Palindrome Strings (Medium)](https://leetcode.com/problems/construct-k-palindrome-strings/submissions/1505151249/?envType=daily-question&envId=2025-01-11)\n",
    "\n",
    "\n",
    "### Instruction\n",
    "Given a string s and an integer k, return true if you can use all the characters in s to construct k palindrome strings or false otherwise.\n",
    "\n",
    "### Approach\n",
    "\n",
    "--"
   ]
  },
  {
   "cell_type": "code",
   "metadata": {
    "ExecuteTime": {
     "end_time": "2025-01-29T14:07:09.045509Z",
     "start_time": "2025-01-29T14:07:09.025583Z"
    }
   },
   "source": [
    "def can_construct(s: str, k: int) -> bool:\n",
    "    if len(s) < k:\n",
    "        return False\n",
    "    sorted_s = sorted(s)\n",
    "    \n",
    "    odd_count = 0\n",
    "    i = 0\n",
    "    \n",
    "    while i < len(sorted_s):\n",
    "        char = sorted_s[i]\n",
    "        count = 0\n",
    "        while i < len(sorted_s) and sorted_s[i] == char:\n",
    "            count += 1\n",
    "            i += 1\n",
    "        if count % 2 == 1:\n",
    "            odd_count += 1\n",
    "    \n",
    "    return odd_count <= k"
   ],
   "outputs": [],
   "execution_count": 11
  },
  {
   "cell_type": "markdown",
   "metadata": {},
   "source": [
    "# January 12, 2025\n",
    "\n",
    "[2116. Check if a Parentheses String Can Be Valid (Medium)](https://leetcode.com/problems/check-if-a-parentheses-string-can-be-valid/description/?envType=daily-question&envId=2025-01-12)\n",
    "\n",
    "\n",
    "### Instruction\n",
    "A parentheses string is a non-empty string consisting only of '(' and ')'. It is valid if any of the following conditions is true:\n",
    "\n",
    "It is ().\n",
    "It can be written as AB (A concatenated with B), where A and B are valid parentheses strings.\n",
    "It can be written as (A), where A is a valid parentheses string.\n",
    "You are given a parentheses string s and a string locked, both of length n. locked is a binary string consisting only of '0's and '1's. For each index i of locked,\n",
    "\n",
    "If locked[i] is '1', you cannot change s[i].\n",
    "But if locked[i] is '0', you can change s[i] to either '(' or ')'.\n",
    "Return true if you can make s a valid parentheses string. Otherwise, return false.\n",
    "\n",
    "### Approach\n",
    "\n",
    "Check from left to right:\n",
    "Traverse the string, treating every `(` and unlocked position (0) as potential open brackets.\n",
    "If the number of close brackets `)` ever exceeds the available open brackets, the string cannot be valid.\n",
    "\n",
    "\n",
    "Check from right to left:\n",
    "Traverse the string in reverse, treating every `)` and unlocked position (0) as potential close brackets.\n",
    "If the number of open brackets `(` ever exceeds the available close brackets, the string cannot be valid.\n",
    "\n",
    "If both passes succeed, it means the flexible positions can accommodate the required parentheses to balance the string."
   ]
  },
  {
   "cell_type": "code",
   "metadata": {
    "ExecuteTime": {
     "end_time": "2025-01-29T14:07:09.075593Z",
     "start_time": "2025-01-29T14:07:09.055903Z"
    }
   },
   "source": [
    "def can_be_valid(s: str, locked: str):\n",
    "    s_length = len(s)\n",
    "\n",
    "    # If length of string is odd, return false.\n",
    "    if s_length % 2 == 1:\n",
    "        return False\n",
    "    \n",
    "    # check left to right: if close par ever exceeds open, return false\n",
    "    open_count = 0\n",
    "    for i in range(s_length):\n",
    "        if s[i] == '(' or locked[i] == '0':\n",
    "            open_count += 1\n",
    "        else:\n",
    "            open_count -= 1\n",
    "        \n",
    "        if open_count < 0:\n",
    "            return False\n",
    "        \n",
    "    # check right to left: if open par ever exceeds close, return false\n",
    "    close_count = 0\n",
    "    for i in range(s_length - 1, -1, -1):\n",
    "        if s[i] == ')' or locked[i] == '0':\n",
    "            close_count += 1\n",
    "        else:\n",
    "            close_count -= 1\n",
    "        \n",
    "        if close_count < 0:\n",
    "            return False\n",
    "\n",
    "    return True\n",
    "\n",
    "# print(canBeValid(\"))()))\", \"110100\"))\n",
    "# print(canBeValid(\"()()\", \"0000\"))\n",
    "print(can_be_valid(\")(\", \"00\"))"
   ],
   "outputs": [
    {
     "name": "stdout",
     "output_type": "stream",
     "text": [
      "True\n"
     ]
    }
   ],
   "execution_count": 12
  },
  {
   "cell_type": "markdown",
   "metadata": {},
   "source": [
    "# January 13, 2025\n",
    "\n",
    "[3223. Minimum Length of String After Operations (Medium)](https://leetcode.com/problems/minimum-length-of-string-after-operations/description/?envType=daily-question&envId=2025-01-13)\n",
    "\n",
    "\n",
    "### Instruction\n",
    "You are given a string s.\n",
    "\n",
    "You can perform the following process on s any number of times:\n",
    "\n",
    "Choose an index i in the string such that there is at least one character to the left of index i that is equal to s[i], and at least one character to the right that is also equal to s[i].\n",
    "Delete the closest character to the left of index i that is equal to s[i].\n",
    "Delete the closest character to the right of index i that is equal to s[i].\n",
    "Return the minimum length of the final string s that you can achieve.\n",
    "\n",
    "### Approach\n",
    "Make a set of letter in s. Statistically, is `len(s) > 100`, we might as well make a set of all letters in the alphabet.\n",
    "\n",
    "Now each letter can either be none, 1, or 2 since beyond that and we to remove every pair in the excess. \n",
    "Hence, to count the occurence of each letter, we'll get its remainder 2 value——if 1 then 1, if 0 then 2. "
   ]
  },
  {
   "cell_type": "code",
   "metadata": {
    "ExecuteTime": {
     "end_time": "2025-01-29T14:07:09.154217Z",
     "start_time": "2025-01-29T14:07:09.138674Z"
    }
   },
   "source": [
    "# print(ord('a')) # 97\n",
    "\n",
    "def minimum_length(s: str) -> int:\n",
    "    # make a set of letters in s\n",
    "    if len(s) < 100:\n",
    "        letter_set = set(s)\n",
    "    else:\n",
    "        letter_set = {'a','b','c','d','e','f','g','h','i','j','k','l','m','n','o','p','q','r','s','t','u','v','w','x','y','z'}\n",
    "    \n",
    "    # sum up the count of each letter depending on conditions\n",
    "    count = 0\n",
    "    for letter in letter_set:\n",
    "        letter_count = s.count(letter)\n",
    "        # if 0, add none\n",
    "        if letter_count == 0:\n",
    "            continue\n",
    "\n",
    "        # else add 1 or 2\n",
    "        count += 1 if letter_count % 2 == 1 else 2\n",
    "\n",
    "    return count\n",
    "\n",
    "    \n",
    "\n",
    "print(minimum_length(\"abaacbcbb\"))"
   ],
   "outputs": [
    {
     "name": "stdout",
     "output_type": "stream",
     "text": [
      "5\n"
     ]
    }
   ],
   "execution_count": 13
  },
  {
   "cell_type": "markdown",
   "metadata": {},
   "source": [
    "# January 14, 2025\n",
    "\n",
    "[2657. Find the Prefix Common Array of Two Arrays (Medium)](https://leetcode.com/problems/minimum-length-of-string-after-operations/description/?envType=daily-question&envId=2025-01-13)\n",
    "\n",
    "\n",
    "### Instruction\n",
    "You are given two 0-indexed integer permutations A and B of length n.\n",
    "\n",
    "A prefix common array of A and B is an array C such that C[i] is equal to the count of numbers that are present at or before the index i in both A and B.\n",
    "\n",
    "Return the prefix common array of A and B.\n",
    "\n",
    "A sequence of n integers is called a permutation if it contains all integers from 1 to n exactly once.\n",
    "\n",
    "\n",
    "### Approach\n",
    "Use a set for arrays A and B to record the prefixes as we iterate through arrays. The count of common prefixes is basically the value of the previous index **plus**:\n",
    "- 1 if A[1] == B[i]\n",
    "- else +1 if A[i] in setB and +1 if B[i] in setA"
   ]
  },
  {
   "cell_type": "code",
   "metadata": {
    "ExecuteTime": {
     "end_time": "2025-01-29T14:07:09.247473Z",
     "start_time": "2025-01-29T14:07:09.220716Z"
    }
   },
   "source": [
    "from typing import List\n",
    "\n",
    "def find_the_prefix_common_array(a: List[int], b: List[int]) -> List[int]:\n",
    "    set_a = set()\n",
    "    set_b = set()\n",
    "    c = []\n",
    "    count = 0\n",
    "\n",
    "    for i in range(len(a)):\n",
    "        set_a.add(a[i])\n",
    "        set_b.add(b[i])\n",
    "\n",
    "        # if both are equal, there is one new common\n",
    "        if a[i] == b[i]:\n",
    "            count += 1\n",
    "\n",
    "        # account for current if common in the other array\n",
    "        else:\n",
    "            count += 1 if a[i] in set_b else 0   \n",
    "            count += 1 if b[i] in set_a else 0\n",
    "\n",
    "        c.append(count)\n",
    "\n",
    "    return c\n",
    "\n",
    "\n",
    "print(find_the_prefix_common_array([1, 3, 2, 4], [3, 1, 2, 4]))\n"
   ],
   "outputs": [
    {
     "name": "stdout",
     "output_type": "stream",
     "text": [
      "[0, 2, 3, 4]\n"
     ]
    }
   ],
   "execution_count": 14
  },
  {
   "cell_type": "markdown",
   "metadata": {},
   "source": [
    "# January 15, 2025\n",
    "\n",
    "[2429. Minimize XOR (Medium)](https://leetcode.com/problems/minimize-xor/description/?envType=daily-question&envId=2025-01-15)\n",
    "\n",
    "\n",
    "### Instruction\n",
    "Given two positive integers num1 and num2, find the positive integer x such that:\n",
    "\n",
    "x has the same number of set bits as num2, and\n",
    "The value x XOR num1 is minimal.\n",
    "Note that XOR is the bitwise XOR operation.\n",
    "\n",
    "Return the integer x. The test cases are generated such that x is uniquely determined.\n",
    "\n",
    "The number of set bits of an integer is the number of 1's in its binary representation.\n",
    "\n",
    "\n",
    "### Approach\n",
    "???"
   ]
  },
  {
   "cell_type": "code",
   "metadata": {
    "ExecuteTime": {
     "end_time": "2025-01-29T14:07:09.324711Z",
     "start_time": "2025-01-29T14:07:09.310738Z"
    }
   },
   "source": [
    "class Solution:\n",
    "    def minimize_xor(self, num1: int, num2: int) -> int:\n",
    "        result_xor = 0\n",
    "\n",
    "        target_set_bits_count = bin(num2).count(\"1\")\n",
    "        set_bits_count = 0\n",
    "        current_bit = 31  # Start from the most significant bit.\n",
    "\n",
    "        # While result has fewer set bits than num2\n",
    "        while set_bits_count < target_set_bits_count:\n",
    "            # If the current bit of num1 is set or we must set all remaining bits in result\n",
    "            if self._is_set(num1, current_bit) or (\n",
    "                target_set_bits_count - set_bits_count > current_bit\n",
    "            ):\n",
    "                result_xor = self._set_bit(result_xor, current_bit)\n",
    "                set_bits_count += 1\n",
    "            current_bit -= 1  # Move to the next bit.\n",
    "\n",
    "        return result_xor\n",
    "\n",
    "    # Helper function to check if the given bit position in x is set (1).\n",
    "    def _is_set(self, x: int, bit: int) -> bool:\n",
    "        return (x & (1 << bit)) != 0\n",
    "\n",
    "    # Helper function to set the given bit position in x to 1.\n",
    "    def _set_bit(self, x: int, bit: int):\n",
    "        return x | (1 << bit)\n",
    "    \n",
    "\n",
    "\n",
    "solution = Solution() \n",
    "print(solution.minimize_xor(3, 5))"
   ],
   "outputs": [
    {
     "name": "stdout",
     "output_type": "stream",
     "text": [
      "3\n"
     ]
    }
   ],
   "execution_count": 15
  },
  {
   "cell_type": "markdown",
   "metadata": {},
   "source": [
    "# January 16, 2025\n",
    "\n",
    "[2425. Bitwise XOR of All Pairings (Medium)](https://leetcode.com/problems/bitwise-xor-of-all-pairings/description/?envType=daily-question&envId=2025-01-16)\n",
    "\n",
    "\n",
    "### Instruction\n",
    "You are given two 0-indexed arrays, nums1 and nums2, consisting of non-negative integers. There exists another array, nums3, which contains the bitwise XOR of all pairings of integers between nums1 and nums2 (every integer in nums1 is paired with every integer in nums2 exactly once).\n",
    "\n",
    "Return the bitwise XOR of all integers in nums3.\n",
    "\n",
    "\n",
    "### Approach\n",
    "Given integer n, `n XOR n = 0` while `n XOR n XOR n = 0`. The key observation is that if n is XORed to itself for even times, the result is 0, while if odd, then result is n.\n",
    "This insight is key because **it simplifies the equation.**\n",
    "\n",
    "For instance, given nums1 = [2,1,3], nums2 = [10,2,5,0]:\n",
    "```\n",
    "[2,1,3] XOR [10,2,5,0] == (2^10 ^ 2^2 ^ 2^5 ^ 2^0) ^ (1^10 ^ 1^2 ^ 1^5 ^ 1^0) ^ (3^10 ^ 3^2 ^ 3^5 ^ 3^0)\n",
    "                       == 0 ^ (10^2^5^0)\n",
    "```\n",
    "\n",
    "Each num in nums1 will be XORed to itself even times (even since nums2 has even nums). Hence array would end up as 0.\n",
    "In contrast, each num in nums2 will be XORed to itself odd times (even since nums1 has odd nums). Hence array would end up as itself."
   ]
  },
  {
   "cell_type": "code",
   "metadata": {
    "ExecuteTime": {
     "end_time": "2025-01-29T14:07:09.432310Z",
     "start_time": "2025-01-29T14:07:09.409987Z"
    }
   },
   "source": [
    "from typing import List\n",
    "\n",
    "class SolutionJan16:\n",
    "    def xor_all_nums(self, nums1: List[int], nums2: List[int]) -> int:\n",
    "        ans = 0\n",
    "\n",
    "        # if nums2 has even number of elements, nums1 is 0 else itself\n",
    "        if len(nums2) & 1:\n",
    "            for num1 in nums1:\n",
    "                ans ^= num1 \n",
    "\n",
    "        # if nums1 has even number of elements, nums2 is 0 else itself\n",
    "        if len(nums1) & 1:\n",
    "            for num2 in nums2:\n",
    "                ans ^= num2 \n",
    "\n",
    "        return ans\n",
    "\n",
    "solution16 = SolutionJan16()\n",
    "\n",
    "ans = solution16.xor_all_nums([1, 2], [3, 4])\n",
    "print(ans)\n",
    "\n",
    "ans = solution16.xor_all_nums([2, 1, 3], [10, 2, 5, 0])\n",
    "print(ans)\n",
    "\n",
    "ans = solution16.xor_all_nums([8, 6, 29, 2, 26, 16, 15, 29], [24, 12, 12])\n",
    "print(ans)"
   ],
   "outputs": [
    {
     "name": "stdout",
     "output_type": "stream",
     "text": [
      "0\n",
      "13\n",
      "9\n"
     ]
    }
   ],
   "execution_count": 16
  },
  {
   "metadata": {},
   "cell_type": "markdown",
   "source": [
    "# January 17, 2025\n",
    "[2683. Neighboring Bitwise XOR (Medium)](https://leetcode.com/problems/neighboring-bitwise-xor/description/?envType=daily-question&envId=2025-01-17)\n",
    "\n",
    "\n",
    "### Instruction\n",
    "A 0-indexed array derived with length n is derived by computing the bitwise XOR (⊕) of adjacent values in a binary array original of length n.\n",
    "\n",
    "Specifically, for each index i in the range [0, n - 1]:\n",
    "\n",
    "If i = n - 1, then derived[i] = original[i] ⊕ original[0].\n",
    "Otherwise, derived[i] = original[i] ⊕ original[i + 1].\n",
    "Given an array derived, your task is to determine whether there exists a valid binary array original that could have formed derived.\n",
    "\n",
    "Return true if such an array exists or false otherwise.\n",
    "\n",
    "A binary array is an array containing only 0's and 1's"
   ]
  },
  {
   "metadata": {},
   "cell_type": "markdown",
   "source": [
    "### Approach #1\n",
    "A property of XOR is that if `c == aXORb`, then `a == cXORb`, `b == cXORa`.\n",
    "\n",
    "Hence, whereas `derived[i] == orginal[i] XOR original[i+1]` we can form the original array using `original[i+1] == derived[i] XOR orginal[i]`. \n",
    "\n",
    "Now, the original[0] can be either 1 or 0. That said, we have to form two arrays——one where `original[0] == 0` and another where `original[0] == 1`\n",
    "named `org_0` and `org_1` respectively. If any of the arrays can produced `derived[]`, then it returns true.\n",
    "\n",
    "Note that we don't have to check `derived[i] == orginal[i] XOR original[i+1]` for every element in derived. REMEMBER from i=1 to i=n-1, we used \n",
    "`original[i+1] == derived[i] XOR orginal[i]` and hence we are already certain that `derived[i] == orginal[i] XOR original[i+1]` for every element \n",
    "from i=1 to i=n-1. All we really need to confirm is whether `derived[n-1] == orginal[0] XOR original[n-1]` is true. \n"
   ]
  },
  {
   "metadata": {
    "ExecuteTime": {
     "end_time": "2025-01-29T14:07:09.508558Z",
     "start_time": "2025-01-29T14:07:09.497140Z"
    }
   },
   "cell_type": "code",
   "source": [
    "# APPROACH 1\n",
    "\n",
    "def does_valid_array_exist(derived: List[int]) -> bool:\n",
    "    len_derived = len(derived)\n",
    "    \n",
    "    # form original array (org_0) where original[0] == 0\n",
    "    original = [0]\n",
    "    for i in range(len_derived - 1):\n",
    "        original.append(derived[i] ^ original[i])\n",
    "    \n",
    "    # if org_0 —> derived, return true \n",
    "    if derived[-1] == (original[0] ^ original[-1]):\n",
    "        return True\n",
    "    \n",
    "    # form original array (org_1) where original[0] == 1\n",
    "    original = [1]\n",
    "    for i in range(len_derived - 1):\n",
    "        original.append(derived[i] ^ original[i])\n",
    "    \n",
    "    # if org_1 —> derived, return true \n",
    "    return derived[-1] == (original[0] ^ original[-1])\n",
    "\n",
    "\n",
    "answer17 = does_valid_array_exist([1,1])\n",
    "print(answer17)"
   ],
   "outputs": [
    {
     "name": "stdout",
     "output_type": "stream",
     "text": [
      "True\n"
     ]
    }
   ],
   "execution_count": 17
  },
  {
   "metadata": {},
   "cell_type": "markdown",
   "source": [
    "### Approach #2\n",
    "Whereas `derived[i] == orginal[i] XOR original[i+1]` for every element in derived:\n",
    "\n",
    "```\n",
    "derived[0] = original[0] XOR original[1]\n",
    "derived[1] = original[1] XOR original[2]\n",
    "derived[2] = original[2] XOR original[3]\n",
    "...\n",
    "derived[n-1] = original[n-1] XOR original[0]\n",
    "```\n",
    "\n",
    "Notice that every element in original appears twice. Now, since XOR is commutative, associative, and `aXORa == 0`, \n",
    "the **cumulative XOR** of derived must be = 0:\n",
    "```\n",
    "cumulativeXOR(derived) = derived[0] XOR derived[0] XOR derived[1] \n",
    "                       = (original[0] XOR original[1]) XOR (original[1] XOR original[2]) XOR (original[2] XOR original[0])\n",
    "\n",
    "                       = original[0] XOR original[0] XOR original[1] XOR original[1] XOR original[2] XOR original[2]\n",
    "                       = 0 XOR 0 XOR 0 XOR 0\n",
    "                       = 0\n",
    "```\n"
   ]
  },
  {
   "metadata": {
    "ExecuteTime": {
     "end_time": "2025-01-29T14:07:09.602257Z",
     "start_time": "2025-01-29T14:07:09.581514Z"
    }
   },
   "cell_type": "code",
   "source": [
    "# APPROACH 2\n",
    "\n",
    "def does_valid_array_exist(derived: List[int]) -> bool:\n",
    "    cumulative_xor = 0\n",
    "    \n",
    "    for bit in derived:\n",
    "        cumulative_xor ^= bit\n",
    "        \n",
    "    return cumulative_xor == 0\n",
    "\n",
    "\n",
    "answer17 = does_valid_array_exist([1,1])\n",
    "print(answer17)"
   ],
   "outputs": [
    {
     "name": "stdout",
     "output_type": "stream",
     "text": [
      "True\n"
     ]
    }
   ],
   "execution_count": 18
  },
  {
   "metadata": {},
   "cell_type": "markdown",
   "source": [
    "# January 18, 2025\n",
    "\n",
    "[1368. Minimum Cost to Make at Least One Valid Path in a Grid (Hard)](https://leetcode.com/problems/minimum-cost-to-make-at-least-one-valid-path-in-a-grid/description/?envType=daily-question&envId=2025-01-18)\n",
    "\n",
    "\n",
    "### Instruction\n",
    "Given an m x n grid. Each cell of the grid has a sign pointing to the next cell you should visit if you are currently in this cell. The sign of grid[i][j] can be:\n",
    "\n",
    "- 1 which means go to the cell to the right. (i.e go from grid[i][j] to grid[i][j + 1])\n",
    "- 2 which means go to the cell to the left. (i.e go from grid[i][j] to grid[i][j - 1])\n",
    "- 3 which means go to the lower cell. (i.e go from grid[i][j] to grid[i + 1][j])\n",
    "- 4 which means go to the upper cell. (i.e go from grid[i][j] to grid[i - 1][j])\n",
    "\n",
    "Notice that there could be some signs on the cells of the grid that point outside the grid.\n",
    "\n",
    "You will initially start at the upper left cell (0, 0). A valid path in the grid is a path that starts from the upper left cell (0, 0) and ends at the bottom-right cell (m - 1, n - 1) following the signs on the grid. The valid path does not have to be the shortest.\n",
    "\n",
    "You can modify the sign on a cell with cost = 1. You can modify the sign on a cell one time only.\n",
    "\n",
    "Return the minimum cost to make the grid have at least one valid path."
   ]
  },
  {
   "metadata": {
    "ExecuteTime": {
     "end_time": "2025-01-29T14:07:09.665531Z",
     "start_time": "2025-01-29T14:07:09.643778Z"
    }
   },
   "cell_type": "code",
   "source": [
    "from typing import List\n",
    "import collections\n",
    "\n",
    "class Solution18:\n",
    "    # direction vectors matching 1,2,3,4 any grid\n",
    "    _directions = [(0, 1), (0, -1), (1, 0), (-1, 0)]\n",
    "\n",
    "    def min_cost(self, grid: List[List[int]]) -> int:\n",
    "        rows, cols = len(grid), len(grid[0])\n",
    "        \n",
    "        # initialize deque to index (0,0)\n",
    "        deque = collections.deque([(0,0)])\n",
    "        \n",
    "        # initialize cost grid to the largest float\n",
    "        cost_grid = [[float(\"inf\")] * cols for row in range(rows)]\n",
    "        cost_grid[0][0] = 0\n",
    "        \n",
    "        while deque:\n",
    "            row, col = deque.popleft()\n",
    "            cost = cost_grid[row][col]\n",
    "            \n",
    "            # check all the adjacent cells of the current cell\n",
    "            for index, (x, y) in enumerate(self._directions):\n",
    "                new_row = row + x\n",
    "                new_col = col + y\n",
    "                add_cost = 0 if grid[row][col] == index + 1 else 1\n",
    "                \n",
    "                # if the coordinate is within the grid and a better path is found\n",
    "                if (self._is_valid_coordinate(new_row, new_col, rows, cols) \n",
    "                        and cost + add_cost < cost_grid[new_row][new_col]):\n",
    "                    \n",
    "                    # if the current cell 'points' to this adjacent cell, add front to deque, else add last\n",
    "                    if add_cost == 0:\n",
    "                        deque.appendleft((new_row, new_col))\n",
    "                    else:\n",
    "                        deque.append((new_row, new_col))\n",
    "                        \n",
    "                    \n",
    "                    cost_grid[new_row][new_col] = cost + add_cost\n",
    "        \n",
    "        return cost_grid[-1][-1]\n",
    "    \n",
    "    def _is_valid_coordinate(self, row, col, num_rows, num_cols) -> bool: \n",
    "        return 0 <= row < num_rows and 0 <= col < num_cols\n",
    "\n",
    "\n",
    "solution18 = Solution18()\n",
    "solution18.min_cost([[1,1,1],[3,3,3],[1,1,1]])"
   ],
   "outputs": [
    {
     "data": {
      "text/plain": [
       "1"
      ]
     },
     "execution_count": 19,
     "metadata": {},
     "output_type": "execute_result"
    }
   ],
   "execution_count": 19
  },
  {
   "metadata": {},
   "cell_type": "markdown",
   "source": [
    "# January 19, 2025\n",
    "\n",
    "[407. Trapping Rain Water II (Hard)](https://leetcode.com/problems/trapping-rain-water-ii/description/?envType=daily-question&envId=2025-01-19)\n",
    "\n",
    "\n",
    "### Instruction\n",
    "Given an m x n integer matrix heightMap representing the height of each unit cell in a 2D elevation map, return the volume of water it can trap after raining.\n",
    "\n",
    "### Intuition\n",
    "First of, a cell can only hold water if it is surrounded by other cells in all four sides. This means that \n",
    "the border cells cannot hold water; rather, they'll serve as the outermost boundary for the pools of water within.\n",
    "\n",
    "From the outside, we have work our way to the inside. But how? **We have to visit every boundaries in ascending order.**\n",
    "Why? We still don't know if the interior cells can hold water or not. But one thing is for sure——any pool of water bounded \n",
    "**cannot** exceed the lowest cell in its boundary.\n",
    "\n",
    "|    | C0 | C1 | C2 | C3 | C4 |\n",
    "|----|----|----|----|----|----|\n",
    "| R0 |  3 | 3  | 2  | 3  |  3 |\n",
    "| R1 |  3 | 1  | 1  | 1  |  3 |\n",
    "| R2 |  3 | 1  | 1  | 1  |  3 |\n",
    "| R3 |  3 | 1  | 1  | 1  |  3 |\n",
    "| R4 |  3 | 3  | 3  | 3  |  3 |\n",
    "\n",
    "In this example, a pool of water within the border can be formed. Since (R0, C2) = 2 and is the min in the boundary,\n",
    "the waterline would be level that of (R0, C2).\n",
    "\n",
    "|    | C0 | C1 | C2 | C3 | C4 |\n",
    "|----|----|----|----|----|----|\n",
    "| R0 | 3  | 3  | 2  | 3  | 3  |\n",
    "| R1 | 3  | 1  | 1  | 1  | 3  |\n",
    "| R2 | 3  | 4  | 4  | 4  | 3  |\n",
    "| R3 | 4  | 1  | 1  | 1  | 4  |\n",
    "| R4 | 3  | 4  | 4  | 4  | 3  |\n",
    "\n",
    "Meanwhile, in here, two pools will form: pool A = (R1,C1)->(R1, C3) and pool B = (R3,C1)->(R3, C3). Notice that the pool\n",
    "in pool B would be deeper than in pool A. By visiting the boundary cell in ascending order, the [lowest] boundaries in pool A would\n",
    "be visited first. \n",
    "\n",
    "We visit (R0, C2)--h2 then work our way in. It's bottom neighbor, (R1, C2)--h1 is lower than it. Since 2 is the lowest border in pool A, \n",
    "we can be sure that (R1, C2)--h1 can hold water. The amount? 2 - 1 = 1 unit——basically the difference.\n",
    "\n",
    "Next, we check the neighbors of (R1, C2)--h1, and indeed both (R1, C1)--h1 and (R3, C1)--h1 can also hold 1 unit of water each.\n",
    "After these two cells, we *go up* a level——from level 2 to level 3. \n",
    "\n",
    "However, no pool is bounded by a height of 3 (pool A has 3-level boundaries, but its boundary is effectively only = 2 because of \n",
    "(R1, C2)--h1). So we move to the next level, level 4.\n",
    "\n",
    "And indeed, we have pool B bounded by a height of 4.\n",
    "\n",
    "### Approach \n",
    "For us to traverse the boundaries in ascending order, we will use the **min-heap** aka **priority-queue**. \n",
    "Min heap has a property were any parent node is lesser than all of its descendant nodes. If implemented \n",
    "in a queue, the first element of that queue would always be the smallest element in the heap.\n",
    "\n",
    "So, we put all the boundary cells in a min-heap `boundary_pq`. We pop the first\n",
    "element (which is the smallest) and take its height. The height is the `current_pool_height`. \n",
    "\n",
    "Then, we check it's neighbors. The neighbors would also be added in `boundary_pq` iff it is not yet \n",
    "visited. Notice that the neighbors with with smaller height than the current will be added to the front of the \n",
    "`boundary_pq`, which means it will be visited next (kinda like how water flows to the lower levels). \n",
    "We then calculate how much water each neighbor can hold and increment it to the running sum, \n",
    "`total_water_volume`.\n",
    "\n",
    "Once all boundaries with levels <= the `current_pool_height`, the next lowest level will be its next value.\n"
   ]
  },
  {
   "metadata": {
    "ExecuteTime": {
     "end_time": "2025-01-29T14:07:09.773449Z",
     "start_time": "2025-01-29T14:07:09.746535Z"
    }
   },
   "cell_type": "code",
   "source": [
    "# PERSONAL HEAP\n",
    "\n",
    "class SolutionJan19:\n",
    "    _offsets = [(0, 1), (0, -1), (1, 0), (-1, 0)]\n",
    "    _num_of_rows = 0\n",
    "    _num_of_cols = 0\n",
    "    _height_map = []\n",
    "    \n",
    "    _boundary_pq = []\n",
    "\n",
    "    \n",
    "    def _is_valid_cell(self, row, col):\n",
    "        return 0 <= row < self._num_of_rows and 0 <= col < self._num_of_cols\n",
    "    \n",
    "    def _is_interior_cell(self, row, col):\n",
    "        return 1 <= row < self._num_of_rows-1 and 1 <= col < self._num_of_cols-1\n",
    "    \n",
    "    \n",
    "    def _heap_push(self, row, col):\n",
    "        # append cell to boundary p_queue\n",
    "        self._boundary_pq.append((row, col))\n",
    "        curr_cell_height = self._height_map[row][col]\n",
    "        \n",
    "        # get the median of boundary queue\n",
    "        index = len(self._boundary_pq) - 1\n",
    "        \n",
    "        # bubble the cell up\n",
    "        while index > 0:\n",
    "            # get the parent cell\n",
    "            parent = (index - 1) // 2\n",
    "            parent_row = self._boundary_pq[parent][0]\n",
    "            parent_col = self._boundary_pq[parent][1]\n",
    "            \n",
    "            # if the parent height > curr_cell_height, swap parent and index\n",
    "            if curr_cell_height < self._height_map[parent_row][parent_col]:\n",
    "                self._boundary_pq[parent], self._boundary_pq[index] = self._boundary_pq[index], self._boundary_pq[parent] \n",
    "                index = parent\n",
    "            else:\n",
    "                break  # heap property restored\n",
    "                      \n",
    "    def _heap_pop(self):\n",
    "        if len(self._boundary_pq) == 0:\n",
    "            return None\n",
    "        \n",
    "        # remove the root replace with last element\n",
    "        removed = self._boundary_pq[0]\n",
    "        self._boundary_pq[0] = self._boundary_pq[-1]\n",
    "        self._boundary_pq.pop()\n",
    "        \n",
    "        # get the root cell height\n",
    "        index = 0\n",
    "        \n",
    "        # get new count for boundary queue\n",
    "        count_boundary = len(self._boundary_pq)\n",
    "        \n",
    "        # heapify down the new root\n",
    "        while index < count_boundary:\n",
    "            smallest = index\n",
    "            smallest_row, smallest_col = self._boundary_pq[smallest]\n",
    "            \n",
    "            # get the children indices of the current index\n",
    "            left = index * 2 + 1\n",
    "            right = index * 2 + 2\n",
    "            \n",
    "            # check if left child exist and is smallest\n",
    "            if left < count_boundary:\n",
    "                left_row, left_col = self._boundary_pq[left]\n",
    "                \n",
    "                if self._height_map[left_row][left_col] < self._height_map[smallest_row][smallest_col]:\n",
    "                    smallest = left\n",
    "                    smallest_row, smallest_col = self._boundary_pq[smallest]\n",
    "                \n",
    "            # check if right child exist and is smallest\n",
    "            if right < count_boundary:\n",
    "                right_row, right_col = self._boundary_pq[right]\n",
    "                \n",
    "                if self._height_map[right_row][right_col] < self._height_map[smallest_row][smallest_col]:\n",
    "                    smallest = right\n",
    "                \n",
    "            # swap if smallest is among children, else break\n",
    "            if smallest != index:\n",
    "                self._boundary_pq[smallest], self._boundary_pq[index] = self._boundary_pq[index], self._boundary_pq[smallest]\n",
    "                index = smallest\n",
    "            else:\n",
    "                break\n",
    "        \n",
    "        return removed\n",
    "\n",
    "        \n",
    "    def trapRainWater(self, height_map):\n",
    "        self._num_of_rows = len(height_map)\n",
    "        self._num_of_cols = len(height_map[0])\n",
    "        self._height_map = height_map\n",
    "        \n",
    "        # make a bool grid for the height_map; true means cell has been in boundary\n",
    "        boundary_map = [[False] * self._num_of_cols for _ in range(self._num_of_rows)]\n",
    "        \n",
    "        # make a min heap (priority queue) for the boundary cells\n",
    "        self._boundary_pq = []\n",
    "        \n",
    "        # add the border cells to the boundary priority queue\n",
    "        for col in range(self._num_of_cols):\n",
    "            self._heap_push(0, col)\n",
    "            boundary_map[0][col] = True\n",
    "            \n",
    "            self._heap_push(self._num_of_rows - 1, col)\n",
    "            boundary_map[-1][col] = True\n",
    "            \n",
    "        for row in range(1, self._num_of_rows - 1):\n",
    "            self._heap_push(row, 0)\n",
    "            boundary_map[row][0] = True\n",
    "            \n",
    "            self._heap_push(row, self._num_of_cols - 1)\n",
    "            boundary_map[row][-1] = True\n",
    "        \n",
    "        # keep the current water level\n",
    "        max_water_level = 0\n",
    "        \n",
    "        # keep track of water volume\n",
    "        total_water_volume = 0\n",
    "        \n",
    "        while len(self._boundary_pq) != 0:\n",
    "            # pop the boundary queue\n",
    "            curr_row, curr_col = self._heap_pop()\n",
    "            curr_height = height_map[curr_row][curr_col]\n",
    "            \n",
    "            # update the max water level\n",
    "            max_water_level = max(curr_height, max_water_level)\n",
    "            \n",
    "            # check all neighbors and add to boundary queue those not yet added\n",
    "            for offset in self._offsets:\n",
    "                n_row = curr_row + offset[0]\n",
    "                n_col = curr_col + offset[1]\n",
    "                \n",
    "                # add the water it can hold to total_water_volume if it is an interior cell (not border)\n",
    "                if not self._is_interior_cell(n_row, n_col):\n",
    "                    continue\n",
    "                if boundary_map[n_row][n_col]:\n",
    "                    continue\n",
    "                    \n",
    "                # calculate trapped water by current neighbor\n",
    "                water_trapped = max(0, max_water_level - height_map[n_row][n_col])\n",
    "                total_water_volume += water_trapped\n",
    "                    \n",
    "                # add neighbor to boundary if not yet visited\n",
    "                self._heap_push(n_row, n_col)\n",
    "                boundary_map[n_row][n_col] = True\n",
    "            \n",
    "        return total_water_volume\n",
    "         \n",
    "solution_jan_19 = SolutionJan19()\n",
    "print(solution_jan_19.trapRainWater([[1,4,3,1,3,2],[3,2,1,3,2,4],[2,3,3,2,3,1]]))"
   ],
   "outputs": [
    {
     "name": "stdout",
     "output_type": "stream",
     "text": [
      "4\n"
     ]
    }
   ],
   "execution_count": 20
  },
  {
   "metadata": {
    "ExecuteTime": {
     "end_time": "2025-01-29T14:07:09.898707Z",
     "start_time": "2025-01-29T14:07:09.872147Z"
    }
   },
   "cell_type": "code",
   "source": [
    "# PYTHON HEAP\n",
    "\n",
    "import heapq\n",
    "\n",
    "class Solution19:\n",
    "    def trapRainWater(self, height_map):    \n",
    "        num_of_rows = len(height_map)\n",
    "        num_of_cols = len(height_map[0])\n",
    "        \n",
    "        # gate clause: return 0 if grid is not small enough\n",
    "        if num_of_rows < 3 or num_of_cols < 3:\n",
    "            return 0\n",
    "        \n",
    "        # make offset array useful to get the neighbors of a cell\n",
    "        offsets = [(0, 1), (0, -1), (1, 0), (-1, 0)]\n",
    "        \n",
    "        # make a bool grid for the height_map; true means cell has been in boundary\n",
    "        boundary_map = [[False] * num_of_cols for _ in range(num_of_rows)]\n",
    "        \n",
    "        # make a min heap (priority queue) for the boundary cells\n",
    "        boundary_pq = []\n",
    "        \n",
    "        # add the top and bottom border cells to the boundary priority queue\n",
    "        for col in range(num_of_cols):\n",
    "            heapq.heappush(boundary_pq, (height_map[0][col], 0, col))\n",
    "            boundary_map[0][col] = True\n",
    "            heapq.heappush(boundary_pq, (height_map[num_of_rows - 1][col], num_of_rows - 1, col))\n",
    "            boundary_map[-1][col] = True\n",
    "\n",
    "        # add the 'remaining' left and right border cells to the boundary priority queue\n",
    "        for row in range(1, num_of_rows - 1):\n",
    "            heapq.heappush(boundary_pq, (height_map[row][0], row, 0))\n",
    "            boundary_map[row][0] = True\n",
    "            heapq.heappush(boundary_pq, (height_map[row][num_of_cols - 1], row, num_of_cols - 1))\n",
    "            boundary_map[row][-1] = True\n",
    "        \n",
    "        # keep the current water level and total volume\n",
    "        max_water_level = 0\n",
    "        total_water_volume = 0\n",
    "        \n",
    "        while len(boundary_pq) != 0:\n",
    "            # pop the boundary queue\n",
    "            curr_height, curr_row, curr_col = heapq.heappop(boundary_pq)\n",
    "            \n",
    "            # update the max water level\n",
    "            max_water_level = max(curr_height, max_water_level)\n",
    "            \n",
    "            # check all neighbors and add to boundary queue those not yet added\n",
    "            for offset in offsets:\n",
    "                n_row = curr_row + offset[0]\n",
    "                n_col = curr_col + offset[1]\n",
    "                \n",
    "                # skip if neighbor is not an interior cell or if already visited\n",
    "                if not (1 <= n_row < num_of_rows-1 and 1 <= n_col < num_of_cols-1):\n",
    "                    continue                    \n",
    "                if boundary_map[n_row][n_col]:\n",
    "                    continue\n",
    "                    \n",
    "                # calculate trapped water by current neighbor\n",
    "                water_trapped = max(0, max_water_level - height_map[n_row][n_col])\n",
    "                total_water_volume += water_trapped\n",
    "                    \n",
    "                # add neighbor to boundary if not yet visited\n",
    "                heapq.heappush(boundary_pq, (height_map[n_row][n_col], n_row, n_col))\n",
    "                boundary_map[n_row][n_col] = True\n",
    "            \n",
    "        return total_water_volume\n",
    "    \n",
    "         \n",
    "solution_19 = Solution19()\n",
    "print(solution_19.trapRainWater([[12,13,1,12],[13,4,13,12],[13,8,10,12],[12,13,12,12],[13,13,13,13]]))\n"
   ],
   "outputs": [
    {
     "name": "stdout",
     "output_type": "stream",
     "text": [
      "14\n"
     ]
    }
   ],
   "execution_count": 21
  },
  {
   "metadata": {},
   "cell_type": "markdown",
   "source": [
    "# January 20, 2025\n",
    "\n",
    "[2661. First Completely Painted Row or Column (Medium)](https://leetcode.com/problems/first-completely-painted-row-or-column/description/?envType=daily-question&envId=2025-01-20)\n",
    "\n",
    "\n",
    "### Instruction\n",
    "You are given a 0-indexed integer array arr, and an m x n integer matrix mat. arr and mat both contain all the integers in the range [1, m * n].\n",
    "\n",
    "Go through each index i in arr starting from index 0 and paint the cell in mat containing the integer arr[i].\n",
    "\n",
    "Return the smallest index i at which either a row or a column will be completely painted in mat.\n",
    "\n",
    "### Approach\n",
    "Map out the coordinates of the cells in mat for quicker access. A row or col is complete if row = num_rows or col = num_cols\n",
    "respectively. To determine if any row or col is complete, therefore, we just need to count——increment the count of the \n",
    "current row and col. If they match their nums, they are complete."
   ]
  },
  {
   "metadata": {
    "ExecuteTime": {
     "end_time": "2025-01-29T14:07:09.945527Z",
     "start_time": "2025-01-29T14:07:09.932842Z"
    }
   },
   "cell_type": "code",
   "source": [
    "class Solution20:\n",
    "    def firstCompleteIndex(self, arr, mat):\n",
    "        num_rows, num_cols = len(mat), len(mat[0])\n",
    "        \n",
    "        # make a rows and cols counter to track their completion\n",
    "        row_counter, col_counter = [0] * num_rows, [0] * num_cols\n",
    "        \n",
    "        # make a map for the coordinates of each elem in arr\n",
    "        mat_map = {mat[row][col]: (row, col) \n",
    "                   for row in range(num_rows) \n",
    "                   for col in range(num_cols)}\n",
    "        \n",
    "        # traverse arr and check for completion\n",
    "        for i, value in enumerate(arr):\n",
    "            row, col = mat_map[value]\n",
    "            \n",
    "            # update row and col counter\n",
    "            row_counter[row] += 1\n",
    "            col_counter[col] += 1\n",
    "            \n",
    "            # check if row or column is complete\n",
    "            if row_counter[row] == num_cols or col_counter[col] == num_rows:\n",
    "                return i\n",
    "            \n",
    "        return -1\n",
    "\n",
    "        \n",
    "solution20 = Solution20()\n",
    "solution20.firstCompleteIndex([1,4,5,2,6,3], [[4,3,5],[1,2,6]])"
   ],
   "outputs": [
    {
     "data": {
      "text/plain": [
       "1"
      ]
     },
     "execution_count": 22,
     "metadata": {},
     "output_type": "execute_result"
    }
   ],
   "execution_count": 22
  },
  {
   "metadata": {},
   "cell_type": "markdown",
   "source": [
    "# January 21, 2025\n",
    "\n",
    "[2017. Grid Game (Medium)](https://leetcode.com/problems/grid-game/description/?envType=daily-question&envId=2025-01-21)\n",
    "\n",
    "\n",
    "### Instruction\n",
    "You are given a 0-indexed 2D array grid of size 2 x n, where grid[r][c] represents the number of points at position (r, c) on the matrix. Two robots are playing a game on this matrix.\n",
    "\n",
    "Both robots initially start at (0, 0) and want to reach (1, n-1). Each robot may only move to the right ((r, c) to (r, c + 1)) or down ((r, c) to (r + 1, c)).\n",
    "\n",
    "At the start of the game, the first robot moves from (0, 0) to (1, n-1), collecting all the points from the cells on its path. For all cells (r, c) traversed on the path, grid[r][c] is set to 0. Then, the second robot moves from (0, 0) to (1, n-1), collecting the points on its path. Note that their paths may intersect with one another.\n",
    "\n",
    "The first robot wants to minimize the number of points collected by the second robot. In contrast, the second robot wants to maximize the number of points it collects. If both robots play optimally, return the number of points collected by the second robot.\n"
   ]
  },
  {
   "metadata": {
    "ExecuteTime": {
     "end_time": "2025-01-29T14:07:10.038579Z",
     "start_time": "2025-01-29T14:07:10.025689Z"
    }
   },
   "cell_type": "code",
   "source": [
    "from typing import List\n",
    "\n",
    "class Solution20:\n",
    "    def grid_game(self, grid: List[List[int]]) -> int:\n",
    "        sum_top = sum(grid[0])\n",
    "        sum_bot = 0\n",
    "        max_score = float('inf')\n",
    "        \n",
    "        for i in range(len(grid[0])):\n",
    "            sum_top -= grid[0][i]\n",
    "            max_score = min(max_score, max(sum_top, sum_bot))\n",
    "            sum_bot += grid[1][i]\n",
    "        \n",
    "        return max_score\n",
    "        \n",
    "        \n",
    "solution20 = Solution20()\n",
    "solution20.grid_game([[1,3,1,15],[1,3,3,1]])\n",
    "solution20.grid_game([[2,5,4],[1,5,1]])\n"
   ],
   "outputs": [
    {
     "data": {
      "text/plain": [
       "4"
      ]
     },
     "execution_count": 23,
     "metadata": {},
     "output_type": "execute_result"
    }
   ],
   "execution_count": 23
  },
  {
   "metadata": {},
   "cell_type": "markdown",
   "source": [
    "# January 22, 2025\n",
    "\n",
    "[1765. Map of Highest Peak (Medium)](https://leetcode.com/problems/map-of-highest-peak/description/?envType=daily-question&envId=2025-01-22)\n",
    "\n",
    "\n",
    "### Instruction\n",
    "You are given an integer matrix isWater of size m x n that represents a map of land and water cells.\n",
    "\n",
    "If isWater[i][j] == 0, cell (i, j) is a land cell.\n",
    "If isWater[i][j] == 1, cell (i, j) is a water cell.\n",
    "You must assign each cell a height in a way that follows these rules:\n",
    "\n",
    "The height of each cell must be non-negative.\n",
    "If the cell is a water cell, its height must be 0.\n",
    "Any two adjacent cells must have an absolute height difference of at most 1. A cell is adjacent to another cell if the former is directly north, east, south, or west of the latter (i.e., their sides are touching).\n",
    "Find an assignment of heights such that the maximum height in the matrix is maximized.\n",
    "\n",
    "Return an integer matrix height of size m x n where height[i][j] is cell (i, j)'s height. If there are multiple solutions, return any of them.\n",
    "\n",
    "### Approach\n",
    "BFS!!! Add the water cells to queue first, then their neighbors. The neighbor height is the height of current + 1. \n"
   ]
  },
  {
   "metadata": {
    "ExecuteTime": {
     "end_time": "2025-01-29T14:07:10.116551Z",
     "start_time": "2025-01-29T14:07:10.100773Z"
    }
   },
   "cell_type": "code",
   "source": [
    "from collections import deque\n",
    "from typing import List\n",
    "\n",
    "class Solution22:\n",
    "    def highestPeak(self, is_water: List[List[int]]):\n",
    "        row_count, col_count = len(is_water), len(is_water[0])\n",
    "        \n",
    "        # make offset vectors for neighbor traversal\n",
    "        offsets = [(0, 1), (0, -1), (1, 0), (-1, 0)]\n",
    "        \n",
    "        # make topographic map \n",
    "        topographic_map = [[-1] * col_count for row in range(row_count)]\n",
    "        \n",
    "        # make deque to store mapped out cells\n",
    "        cell_queue = deque()\n",
    "        \n",
    "        # add the water cells to queue and mark as 0 in the map\n",
    "        for row in range(row_count):\n",
    "            for col in range(col_count):\n",
    "                # if cell is water, process it\n",
    "                if is_water[row][col] == 1:\n",
    "                    cell_queue.append((row,col))        \n",
    "                    topographic_map[row][col] = 0\n",
    "        \n",
    "        \n",
    "        # use BFS to traverse the grid and calc the height of cells\n",
    "        while cell_queue:\n",
    "            cell_row, cell_col = cell_queue.popleft()\n",
    "            cell_height = topographic_map[cell_row][cell_col]\n",
    "            \n",
    "            # explore the neighbors of the cell\n",
    "            for offset_row, offset_col in offsets:\n",
    "                # get neighbor coordinates\n",
    "                new_row = cell_row + offset_row\n",
    "                new_col = cell_col + offset_col\n",
    "                \n",
    "                # skip if neighbor doesn't exists (has invalid coordinate)\n",
    "                if not (0 <= new_row < row_count and 0 <= new_col < col_count):\n",
    "                    continue\n",
    "                    \n",
    "                # skip if neighbor already mapped out in map\n",
    "                if topographic_map[new_row][new_col] > -1:\n",
    "                    continue\n",
    "                \n",
    "                # map out the unaccounted neighbor cell and add to queue    \n",
    "                topographic_map[new_row][new_col] = cell_height + 1\n",
    "                cell_queue.append((new_row, new_col))\n",
    "        \n",
    "        # return the map          \n",
    "        return topographic_map\n",
    "        \n",
    "\n",
    "solution22 = Solution22()\n",
    "solution22.highestPeak([[0,0,1],[1,0,0],[0,0,0]])\n",
    "        "
   ],
   "outputs": [
    {
     "data": {
      "text/plain": [
       "[[1, 1, 0], [0, 1, 1], [1, 2, 2]]"
      ]
     },
     "execution_count": 24,
     "metadata": {},
     "output_type": "execute_result"
    }
   ],
   "execution_count": 24
  },
  {
   "metadata": {},
   "cell_type": "markdown",
   "source": [
    "# January 23, 2025\n",
    "\n",
    "[1267. Count Servers that Communicate (Medium)](https://leetcode.com/problems/count-servers-that-communicate/description/?envType=daily-question&envId=2025-01-23)\n",
    "\n",
    "\n",
    "### Instruction\n",
    "You are given a map of a server center, represented as a m * n integer matrix grid, where 1 means that on that cell there is a server and 0 means that it is no server. Two servers are said to communicate if they are on the same row or on the same column.\n",
    "\n",
    "Return the number of servers that communicate with any other server.\n",
    "\n",
    "### Approach\n",
    "The key is to count the servers per row and per col. We can do this as we traverse every cell. Using a row counter and col count arrays\n",
    "initialized to 0s, if a cell has a server (cell = 1), add it to the servers list and increment its row and col in their respective\n",
    "counters.\n",
    "\n",
    "Once all servers are listed, sort out which servers are communicable. I.e, check every server if their row or col is communicable.\n"
   ]
  },
  {
   "metadata": {
    "ExecuteTime": {
     "end_time": "2025-01-29T14:07:10.209934Z",
     "start_time": "2025-01-29T14:07:10.196362Z"
    }
   },
   "cell_type": "code",
   "source": [
    "from typing import List\n",
    "\n",
    "class Solution23:\n",
    "    def count_servers(self, grid: List[List[int]]) -> int:\n",
    "        row_count, col_count = len(grid), len(grid[0])\n",
    "        \n",
    "        # make a list of server coordinates\n",
    "        servers = []\n",
    "        \n",
    "        # make list to record servers per row and col\n",
    "        row_server_counter = [0] * row_count\n",
    "        col_server_counter = [0] * col_count\n",
    "        \n",
    "        # traverse the grid\n",
    "        for row in range(row_count):\n",
    "            for col in range(col_count):\n",
    "                # if cell has a server, list coordinate to servers\n",
    "                if grid[row][col] == 1:\n",
    "                    servers.append((row, col))\n",
    "                    \n",
    "                    # increment the counters\n",
    "                    row_server_counter[row] += 1\n",
    "                    col_server_counter[col] += 1\n",
    "                    \n",
    "        # count the communicable servers\n",
    "        communicable_count = 0\n",
    "        for row, col in servers:\n",
    "            if row_server_counter[row] > 1 or col_server_counter[col] > 1:\n",
    "                communicable_count += 1\n",
    "                \n",
    "        return communicable_count\n",
    "    \n",
    "solution23 = Solution23()\n",
    "solution23.count_servers([[1,0,0,1,0],[0,0,0,0,0],[0,0,0,1,0]])"
   ],
   "outputs": [
    {
     "data": {
      "text/plain": [
       "3"
      ]
     },
     "execution_count": 25,
     "metadata": {},
     "output_type": "execute_result"
    }
   ],
   "execution_count": 25
  },
  {
   "metadata": {},
   "cell_type": "markdown",
   "source": [
    "# January 24, 2025\n",
    "\n",
    "[802. Find Eventual Safe States (Medium)](https://leetcode.com/problems/find-eventual-safe-states/description/?envType=daily-question&envId=2025-01-24)\n",
    "\n",
    "\n",
    "### Instruction\n",
    "There is a directed graph of n nodes with each node labeled from 0 to n - 1. The graph is represented by a 0-indexed 2D integer array graph where graph[i] is an integer array of nodes adjacent to node i, meaning there is an edge from node i to each node in graph[i].\n",
    "\n",
    "A node is a terminal node if there are no outgoing edges. A node is a safe node if every possible path starting from that node leads to a terminal node (or another safe node).\n",
    "\n",
    "Return an array containing all the safe nodes of the graph. The answer should be sorted in ascending order.\n",
    "\n",
    "### Approach\n",
    "Make a graph with reversed connection. We can use this to navigate a node's neighbor pointed by its incoming edge.\n",
    "Then we back-propagate. Store the terminal/safe nodes to a queue. For each safe node, remove its incoming connection——\n",
    "as in, if a node 5 has incoming nodes 2 and 4, remove 5 as an outgoing in nodes 2 and 4. Now, if nodes 2 and/or 4 ends\n",
    "up empty after removing outgoing edge 5, add 2 and/or 4 to the queue for later checking.\n",
    "\n",
    "Now to save time, we'll just track the out degree instead of physically removing the outgoing edge. \n",
    " "
   ]
  },
  {
   "metadata": {
    "ExecuteTime": {
     "end_time": "2025-01-29T14:07:10.287789Z",
     "start_time": "2025-01-29T14:07:10.263304Z"
    }
   },
   "cell_type": "code",
   "source": [
    "from collections import deque\n",
    "\n",
    "class Solution24:\n",
    "    def eventual_safe_nodes(self, graph: List[List[int]]):\n",
    "        n = len(graph)\n",
    "        \n",
    "        # reverse edges to track incoming connections\n",
    "        incoming_edges = [[] for _ in range(n)]\n",
    "        out_degree = [0] * n\n",
    "        \n",
    "        # initialize incoming_edges and out degree\n",
    "        for node, outgoing_edges in enumerate(graph):\n",
    "            out_degree[node] = len(outgoing_edges)\n",
    "            for neighbor in outgoing_edges:\n",
    "                incoming_edges[neighbor].append(node)\n",
    "        \n",
    "        \n",
    "        # initialize queue of nodes with no outgoing edges\n",
    "        queue = deque([node for node in range(n) if out_degree[node] == 0])\n",
    "        safe_nodes = []\n",
    "        \n",
    "        # process each safe node by propagating safety backward\n",
    "        while queue:\n",
    "            safe_node = queue.popleft()\n",
    "            safe_nodes.append(safe_node)\n",
    "            \n",
    "            # remove the connection for each node that points to the current safe node\n",
    "            for incoming_node in incoming_edges[safe_node]:\n",
    "                out_degree[incoming_node] -= 1\n",
    "                \n",
    "                # if a node now has no outgoing edges, add it to the safe_nodes list\n",
    "                if out_degree[incoming_node] == 0:\n",
    "                    queue.append(incoming_node)\n",
    "            \n",
    "        return sorted(safe_nodes)\n",
    "    \n",
    "    \n",
    "    \n",
    "solution24 = Solution24()\n",
    "solution24.eventual_safe_nodes([[1,2],[2,3],[5],[0],[5],[],[]])\n",
    "solution24.eventual_safe_nodes([[],[0,2,3,4],[3],[4],[]])"
   ],
   "outputs": [
    {
     "data": {
      "text/plain": [
       "[0, 1, 2, 3, 4]"
      ]
     },
     "execution_count": 26,
     "metadata": {},
     "output_type": "execute_result"
    }
   ],
   "execution_count": 26
  },
  {
   "metadata": {},
   "cell_type": "markdown",
   "source": [
    "# January 25, 2025\n",
    "\n",
    "[2948. Make Lexicographically Smallest Array by Swapping Elements (Medium)](https://leetcode.com/problems/make-lexicographically-smallest-array-by-swapping-elements/description/?envType=daily-question&envId=2025-01-25)\n",
    "\n",
    "\n",
    "### Instruction\n",
    "You are given a 0-indexed array of positive integers nums and a positive integer limit.\n",
    "\n",
    "In one operation, you can choose any two indices i and j and swap nums[i] and nums[j] if |nums[i] - nums[j]| <= limit.\n",
    "\n",
    "Return the lexicographically smallest array that can be obtained by performing the operation any number of times.\n",
    "\n",
    "An array a is lexicographically smaller than an array b if in the first position where a and b differ, array a has an element that is less than the corresponding element in b. For example, the array [2,10,3] is lexicographically smaller than the array [10,2,3] because they differ at index 0 and 2 < 10.\n",
    "\n",
    "### Approach"
   ]
  },
  {
   "metadata": {
    "ExecuteTime": {
     "end_time": "2025-01-29T14:07:10.834779Z",
     "start_time": "2025-01-29T14:07:10.349956Z"
    }
   },
   "cell_type": "code",
   "source": [
    "class Solution25:\n",
    "    def lexicographically_smallest_array(self, nums: List[int], limit: int) -> List[int]:\n",
    "        nums_count = len(nums)\n",
    "        \n",
    "        # Create an array of (number, index) pairs\n",
    "        sorted_nums = sorted([(num, i) for i, num in enumerate(nums)])\n",
    "        \n",
    "        # group the consecutive pairs with close difference\n",
    "        grouped_numbers = [[sorted_nums[0][0]]]\n",
    "        grouped_indices = [[sorted_nums[0][1]]]\n",
    "        \n",
    "        # group the sorted (number, index) pair\n",
    "        for i in range(1, nums_count):\n",
    "            num, index = sorted_nums[i]\n",
    "            \n",
    "            # form new group if difference between current and previous is beyond limit\n",
    "            if abs(num - grouped_numbers[-1][-1]) > limit:\n",
    "                grouped_indices.append([])\n",
    "                grouped_numbers.append([])\n",
    "\n",
    "            # add the current num and index to recent group\n",
    "            grouped_numbers[-1].append(num)\n",
    "            grouped_indices[-1].append(index)\n",
    "            \n",
    "            \n",
    "        # reorganize the array\n",
    "        while grouped_indices:\n",
    "            # get the last group of numbers and their indices\n",
    "            numbers = grouped_numbers.pop()\n",
    "            indices = grouped_indices.pop()\n",
    "            list.sort(indices)\n",
    "            \n",
    "            for j, number in enumerate(numbers):\n",
    "                nums[indices[j]] = number\n",
    "        \n",
    "        return nums\n",
    "        \n",
    "        \n",
    "solution25 = Solution25()\n",
    "solution25.lexicographicallySmallestArray([8, 3, 9, 1, 5], 2)"
   ],
   "outputs": [
    {
     "ename": "AttributeError",
     "evalue": "'Solution25' object has no attribute 'lexicographicallySmallestArray'",
     "output_type": "error",
     "traceback": [
      "\u001B[1;31m---------------------------------------------------------------------------\u001B[0m",
      "\u001B[1;31mAttributeError\u001B[0m                            Traceback (most recent call last)",
      "Cell \u001B[1;32mIn[27], line 40\u001B[0m\n\u001B[0;32m     36\u001B[0m         \u001B[38;5;28;01mreturn\u001B[39;00m nums\n\u001B[0;32m     39\u001B[0m solution25 \u001B[38;5;241m=\u001B[39m Solution25()\n\u001B[1;32m---> 40\u001B[0m \u001B[43msolution25\u001B[49m\u001B[38;5;241;43m.\u001B[39;49m\u001B[43mlexicographicallySmallestArray\u001B[49m([\u001B[38;5;241m8\u001B[39m, \u001B[38;5;241m3\u001B[39m, \u001B[38;5;241m9\u001B[39m, \u001B[38;5;241m1\u001B[39m, \u001B[38;5;241m5\u001B[39m], \u001B[38;5;241m2\u001B[39m)\n",
      "\u001B[1;31mAttributeError\u001B[0m: 'Solution25' object has no attribute 'lexicographicallySmallestArray'"
     ]
    }
   ],
   "execution_count": 27
  },
  {
   "metadata": {},
   "cell_type": "markdown",
   "source": [
    "# January 26, 2025\n",
    "\n",
    "[2127. Maximum Employees to Be Invited to a Meeting (Hard)](https://leetcode.com/problems/make-lexicographically-smallest-array-by-swapping-elements/description/?envType=daily-question&envId=2025-01-25)\n",
    "\n",
    "\n",
    "### Instruction\n",
    "A company is organizing a meeting and has a list of n employees, waiting to be invited. They have arranged for a large circular table, capable of seating any number of employees.\n",
    "\n",
    "The employees are numbered from 0 to n - 1. Each employee has a favorite person and they will attend the meeting only if they can sit next to their favorite person at the table. The favorite person of an employee is not themself.\n",
    "\n",
    "Given a 0-indexed integer array favorite, where favorite[i] denotes the favorite person of the ith employee, return the maximum number of employees that can be invited to the meeting.\n",
    "\n",
    "### Approach"
   ]
  },
  {
   "metadata": {
    "ExecuteTime": {
     "end_time": "2025-01-29T15:16:39.319308Z",
     "start_time": "2025-01-29T15:16:39.296453Z"
    }
   },
   "cell_type": "code",
   "source": [
    "from typing import List\n",
    "from collections import deque\n",
    "\n",
    "class Solution26:\n",
    "    admirers_map = {}\n",
    "    favorite = []\n",
    "    eliminated = []\n",
    "    \n",
    "    pairs = []\n",
    "    chains = []\n",
    "    cycle = []\n",
    "    \n",
    "    def keep_admirer_with_longest_chain(self, person):\n",
    "        queue = deque()\n",
    "        queue.append(person)\n",
    "        descendant = []\n",
    "        \n",
    "        # list the admirers of the person and their admirers and so on\n",
    "        while queue:\n",
    "            # dequeue and add the person to friends of friends\n",
    "            curr_person = queue.popleft()\n",
    "            descendant.append(curr_person)\n",
    "            \n",
    "            # if curr_person is the fave of 1st descendant, cycle is detected\n",
    "            if self.favorite[descendant[0]] == curr_person:\n",
    "                self.clean_cycle(descendant)\n",
    "                break\n",
    "            \n",
    "            # enqueue the admirers of the current person\n",
    "            for admirer in self.admirers_map[curr_person]:\n",
    "                queue.append(admirer)\n",
    "                \n",
    "        # eliminate the people in shorter chains\n",
    "        curr_admirer = descendant[-1]\n",
    "        for i in range(2, len(descendant)):\n",
    "            if self.favorite[curr_admirer] != descendant[-i]:\n",
    "                self.eliminated.append(descendant[-i])\n",
    "            else:\n",
    "                curr_admirer = descendant[-i]\n",
    "        \n",
    "        # leave only the friend with most friends        \n",
    "        self.admirers_map[person] = [curr_admirer]\n",
    "        \n",
    "    \n",
    "    def clean_cycle(self, descendant):\n",
    "        curr_admirer = descendant[-1]\n",
    "        new_cycle = [curr_admirer]\n",
    "        \n",
    "        # get the cycle from the descendants\n",
    "        for i in range(2, len(descendant) + 1):\n",
    "            if self.favorite[curr_admirer] == descendant[-i]:\n",
    "                curr_admirer = descendant[-i]\n",
    "                new_cycle.append(curr_admirer)\n",
    "                \n",
    "            self.eliminated.append(curr_admirer)\n",
    "                \n",
    "        # remove the chains of admirers connected to the cycle\n",
    "        for i, person in enumerate(new_cycle):\n",
    "            # get all root admirers of the chains\n",
    "            queue = deque()\n",
    "            for admirer in self.admirers_map[person]:\n",
    "                if admirer != new_cycle[i-1]:\n",
    "                    queue.append(admirer)\n",
    "            \n",
    "            # remove the chains of admirers from the map\n",
    "            while queue:\n",
    "                person = queue.popleft()\n",
    "                for admirer in self.admirers_map[person]:\n",
    "                    queue.append(admirer)\n",
    "                self.eliminated.append(person)\n",
    "                  \n",
    "            # keep only the in-cycle admirer  \n",
    "            self.admirers_map[person] = [new_cycle[i-1]]\n",
    "                \n",
    "        # if new cycle is bigger than current cycle\n",
    "        if len(new_cycle) > len(self.cycle):\n",
    "            self.cycle = new_cycle\n",
    "    \n",
    "    def get_biggest_cycle(self):\n",
    "        while self.admirers_map:\n",
    "            key = [key for key in self.admirers_map.keys()][0]\n",
    "            new_cycle = [key]\n",
    "            self.eliminated.append(key)\n",
    "            \n",
    "            while self.favorite[key] != new_cycle[0]:\n",
    "                key = self.favorite[key]\n",
    "                new_cycle.append(key)\n",
    "                self.eliminated.append(key)\n",
    "                \n",
    "            # remove the eliminated persons from the map\n",
    "            while self.eliminated:\n",
    "                self.admirers_map.pop(self.eliminated.pop(), None)\n",
    "                \n",
    "            # set new cycle as cycle if bigger\n",
    "            if len(new_cycle) > len(self.cycle):\n",
    "                self.cycle = new_cycle\n",
    "    \n",
    "    def collect_chain_from_pairs(self):\n",
    "        for person in self.pairs:\n",
    "            favorite = person\n",
    "            admirers = self.admirers_map[favorite]\n",
    "            \n",
    "            while True:\n",
    "                self.admirers_map.pop(favorite)\n",
    "                \n",
    "                if admirers:\n",
    "                    # get admirer of favorite and add to chain\n",
    "                    admirer = admirers[0]\n",
    "                    self.chains.append(admirer)\n",
    "                    \n",
    "                    # get the next admirer and favorite\n",
    "                    admirers = self.admirers_map[admirer]\n",
    "                    favorite = admirer\n",
    "                else:\n",
    "                    break\n",
    "    \n",
    "    \n",
    "    def maximumInvitations(self, favorite: List[int]) -> int:\n",
    "        self.chains = []\n",
    "        self.pairs = []\n",
    "        self.eliminated = []\n",
    "        \n",
    "        self.favorite = favorite\n",
    "        self.eliminated = []\n",
    "        \n",
    "        # make a map of admirers (the ones who have them as favorite) for each person\n",
    "        self.admirers_map = {index:[] for index in range(len(favorite))} \n",
    "        for admirer, curr_person in enumerate(favorite):\n",
    "            if not favorite[curr_person] == admirer:\n",
    "                self.admirers_map[curr_person].append(admirer)\n",
    "            else:\n",
    "                self.pairs.append(admirer)\n",
    "                \n",
    "        # filter out the longest chains using BFS\n",
    "        for person, admirers in self.admirers_map.items():\n",
    "            # if person has 2 or more admirers\n",
    "            if len(admirers) > 1:\n",
    "                # keep admirer with longest chain of admirers\n",
    "                self.keep_admirer_with_longest_chain(person)\n",
    "                \n",
    "        # remove the eliminated persons from the map\n",
    "        while self.eliminated:\n",
    "            self.admirers_map.pop(self.eliminated.pop(), None) \n",
    "            \n",
    "        # collect the chains connected to pairs\n",
    "        self.collect_chain_from_pairs()\n",
    "        \n",
    "        # what remains at this point are cycles; get the biggest cycle\n",
    "        self.get_biggest_cycle()\n",
    "    \n",
    "        # return the maximum number of employees\n",
    "        if len(self.pairs) + len(self.chains) > len(self.cycle):\n",
    "            return len(self.pairs) + len(self.chains)\n",
    "        return len(self.cycle)\n",
    "    \n",
    "solution26 = Solution26()\n",
    "\n",
    "favorites = [1,2, 3, 6, 3, 4, 3, 6, 7, 8, 6, 10, 11, 12, 10, 14, 15, 16, 3, 6, 21, 20, 24, 25, 22, 23, 27, 28, 26, 30, 31, 34, 28, 32, 35, 29]\n",
    "#favorites = [1,2,0]\n",
    "solution26.maximumInvitations(favorites)"
   ],
   "outputs": [
    {
     "data": {
      "text/plain": [
       "16"
      ]
     },
     "execution_count": 71,
     "metadata": {},
     "output_type": "execute_result"
    }
   ],
   "execution_count": 71
  },
  {
   "metadata": {},
   "cell_type": "markdown",
   "source": [
    "# January 27, 2025\n",
    "\n",
    "[1462. Course Schedule IV (Medium)](https://leetcode.com/problems/course-schedule-iv/description/?envType=daily-question&envId=2025-01-27)\n",
    "\n",
    "\n",
    "### Instruction\n",
    "There are a total of numCourses courses you have to take, labeled from 0 to numCourses - 1. You are given an array prerequisites where prerequisites[i] = [ai, bi] indicates that you must take course ai first if you want to take course bi.\n",
    "\n",
    "For example, the pair [0, 1] indicates that you have to take course 0 before you can take course 1.\n",
    "Prerequisites can also be indirect. If course a is a prerequisite of course b, and course b is a prerequisite of course c, then course a is a prerequisite of course c.\n",
    "\n",
    "You are also given an array queries where queries[j] = [uj, vj]. For the jth query, you should answer whether course uj is a prerequisite of course vj or not.\n",
    "\n",
    "Return a boolean array answer, where answer[j] is the answer to the jth query.\n",
    "\n",
    "### Approach"
   ]
  },
  {
   "metadata": {},
   "cell_type": "markdown",
   "source": [
    "# January 28, 2025\n",
    "\n",
    "[2658. Maximum Number of Fish in a Grid (Medium)](https://leetcode.com/problems/maximum-number-of-fish-in-a-grid/description/?envType=daily-question&envId=2025-01-28)\n",
    "\n",
    "\n",
    "### Instruction\n",
    "You are given a 0-indexed 2D matrix grid of size m x n, where (r, c) represents:\n",
    "\n",
    "A land cell if grid[r][c] = 0, or\n",
    "A water cell containing grid[r][c] fish, if grid[r][c] > 0.\n",
    "A fisher can start at any water cell (r, c) and can do the following operations any number of times:\n",
    "\n",
    "Catch all the fish at cell (r, c), or\n",
    "Move to any adjacent water cell.\n",
    "Return the maximum number of fish the fisher can catch if he chooses his starting cell optimally, or 0 if no water cell exists.\n",
    "\n",
    "An adjacent cell of the cell (r, c), is one of the cells (r, c + 1), (r, c - 1), (r + 1, c) or (r - 1, c) if it exists.\n"
   ]
  },
  {
   "metadata": {},
   "cell_type": "markdown",
   "source": [
    "# January 29, 2025\n",
    "\n",
    "[684. Redundant Connection (Medium)](https://leetcode.com/problems/redundant-connection/description/?envType=daily-question&envId=2025-01-29)\n",
    "\n",
    "\n",
    "### Instruction\n",
    "In this problem, a tree is an undirected graph that is connected and has no cycles.\n",
    "\n",
    "You are given a graph that started as a tree with n nodes labeled from 1 to n, with one additional edge added. The added edge has two different vertices chosen from 1 to n, and was not an edge that already existed. The graph is represented as an array edges of length n where edges[i] = [ai, bi] indicates that there is an edge between nodes ai and bi in the graph.\n",
    "\n",
    "Return an edge that can be removed so that the resulting graph is a tree of n nodes. If there are multiple answers, return the answer that occurs last in the input.\n"
   ]
  },
  {
   "metadata": {},
   "cell_type": "markdown",
   "source": [
    "# January 30, 2025\n",
    "\n",
    "[2493. Divide Nodes Into the Maximum Number of Groups (Hard)](https://leetcode.com/problems/divide-nodes-into-the-maximum-number-of-groups/description/?envType=daily-question&envId=2025-01-30)\n",
    "\n",
    "\n",
    "### Instruction\n",
    "\n",
    "You are given a positive integer n representing the number of nodes in an undirected graph. The nodes are labeled from 1 to n.\n",
    "\n",
    "You are also given a 2D integer array edges, where edges[i] = [ai, bi] indicates that there is a bidirectional edge between nodes ai and bi. Notice that the given graph may be disconnected.\n",
    "\n",
    "Divide the nodes of the graph into m groups (1-indexed) such that:\n",
    "\n",
    "Each node in the graph belongs to exactly one group.\n",
    "For every pair of nodes in the graph that are connected by an edge [ai, bi], if ai belongs to the group with index x, and bi belongs to the group with index y, then |y - x| = 1.\n",
    "Return the maximum number of groups (i.e., maximum m) into which you can divide the nodes. Return -1 if it is impossible to group the nodes with the given conditions.\n"
   ]
  },
  {
   "metadata": {},
   "cell_type": "markdown",
   "source": [
    "# January 31, 2025\n",
    "\n",
    "[827. Making A Large Island (Hard)](https://leetcode.com/problems/making-a-large-island/description/?envType=daily-question&envId=2025-01-31)\n",
    "\n",
    "\n",
    "### Instruction\n",
    "\n",
    "You are given an n x n binary matrix grid. You are allowed to change at most one 0 to be 1.\n",
    "\n",
    "Return the size of the largest island in grid after applying this operation.\n",
    "\n",
    "An island is a 4-directionally connected group of 1s.\n"
   ]
  }
 ],
 "metadata": {
  "kernelspec": {
   "display_name": "Python 3",
   "language": "python",
   "name": "python3"
  },
  "language_info": {
   "codemirror_mode": {
    "name": "ipython",
    "version": 3
   },
   "file_extension": ".py",
   "mimetype": "text/x-python",
   "name": "python",
   "nbconvert_exporter": "python",
   "pygments_lexer": "ipython3",
   "version": "3.10.11"
  }
 },
 "nbformat": 4,
 "nbformat_minor": 2
}
