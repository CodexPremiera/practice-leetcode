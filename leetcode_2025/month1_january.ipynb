{
 "cells": [
  {
   "cell_type": "markdown",
   "metadata": {},
   "source": [
    "# January 01, 2025\n",
    "\n",
    "[1422. Maximum Score After Splitting a String (Easy)](https://leetcode.com/problems/maximum-score-after-splitting-a-string/description/?envType=daily-question&envId=2025-01-01)\n",
    "\n",
    "\n",
    "### Instruction\n",
    "Given a string s of zeros and ones, return the maximum score after splitting the string into two non-empty substrings (i.e. left substring and right substring).\n",
    "\n",
    "The score after splitting a string is the number of zeros in the left substring plus the number of ones in the right substring.\n",
    "\n",
    "### Approach\n",
    "This approach counts the total 1's first. Then iterates until the second-last letter to count the 1's and o's, tracking the max as it passes through. The time ccomplexity is O(n)."
   ]
  },
  {
   "cell_type": "code",
   "execution_count": 4,
   "metadata": {},
   "outputs": [
    {
     "name": "stdout",
     "output_type": "stream",
     "text": [
      "6\n"
     ]
    }
   ],
   "source": [
    "def maxScore(s: str) -> int:\n",
    "    count0 = 0    # left score\n",
    "    count1 = 0    # right score\n",
    "    ans = 0\n",
    "    \n",
    "    # count total 1's\n",
    "    for i in range(len(s)):\n",
    "        if s[i] == '1':\n",
    "            count1 += 1\n",
    "\n",
    "    # get scores\n",
    "    for i in range(len(s) - 1):\n",
    "        if s[i] == '0':\n",
    "            count0 += 1\n",
    "        else:\n",
    "            count1 += -1\n",
    "        ans = max(count0 + count1, ans)\n",
    "\n",
    "    return ans\n",
    "\n",
    "result = maxScore(\"0011101\")\n",
    "print(result)\n"
   ]
  },
  {
   "cell_type": "markdown",
   "metadata": {},
   "source": [
    "# January 02, 2025\n",
    "\n",
    "[2559. Count Vowel Strings in Ranges (Medium)](https://leetcode.com/problems/count-vowel-strings-in-ranges/description/?envType=daily-question&envId=2025-01-02)\n",
    "\n",
    "\n",
    "### Instruction\n",
    "You are given a 0-indexed array of strings words and a 2D array of integers queries.\n",
    "\n",
    "Each query queries[i] = [li, ri] asks us to find the number of strings present in the range li to ri (both inclusive) of words that start and end with a vowel.\n",
    "\n",
    "Return an array ans of size queries.length, where ans[i] is the answer to the ith query.\n",
    "\n",
    "Note that the vowel letters are 'a', 'e', 'i', 'o', and 'u'.\n",
    "\n",
    "### Approach\n",
    "Map the cummulative sum of the vowel strings in words. Then get the count in the query range by subtracting `query[0] - 1` and `query[1]`"
   ]
  },
  {
   "cell_type": "code",
   "execution_count": 15,
   "metadata": {},
   "outputs": [
    {
     "name": "stdout",
     "output_type": "stream",
     "text": [
      "[2, 3, 0]\n"
     ]
    }
   ],
   "source": [
    "from typing import List\n",
    "\n",
    "def vowelStrings(words: List[str], queries: List[List[int]]) -> List[int]:\n",
    "    vowels = {'a', 'e', 'i', 'o', 'u'}\n",
    "    \n",
    "    # map the words with cummulative sum of vowel stings \n",
    "    word_count = len(words)\n",
    "    word_map = [0] * (word_count + 1)\n",
    "\n",
    "    for i in range(word_count):\n",
    "        word = words[i]\n",
    "        word_map[i] = word_map[i-1]\n",
    "        if (word[0] in vowels and word[-1] in vowels):\n",
    "            word_map[i] += 1\n",
    "\n",
    "    # answer queries: count the valid words in the range in each query\n",
    "    ans = []\n",
    "    for query in queries:\n",
    "        start = query[0] - 1\n",
    "        end = query[1]\n",
    "        ans.append(word_map[end] - word_map[start])\n",
    "\n",
    "    return ans\n",
    "\n",
    "word_list = [\"aba\",\"bcb\",\"ece\",\"aa\",\"e\"]\n",
    "queries_list = [[0,2],[1,4],[1,1]]\n",
    "\n",
    "print(vowelStrings(word_list, queries_list))\n",
    "        "
   ]
  },
  {
   "cell_type": "markdown",
   "metadata": {},
   "source": [
    "# January 03, 2025\n",
    "\n",
    "[2270. Number of Ways to Split Array (Medium)](https://leetcode.com/problems/number-of-ways-to-split-array/description/?envType=daily-question&envId=2025-01-03)\n",
    "\n",
    "\n",
    "### Instruction\n",
    "You are given a 0-indexed integer array nums of length n.\n",
    "\n",
    "nums contains a valid split at index i if the following are true:\n",
    "\n",
    "The sum of the first i + 1 elements is greater than or equal to the sum of the last n - i - 1 elements.\n",
    "There is at least one element to the right of i. That is, 0 <= i < n - 1.\n",
    "Return the number of valid splits in nums.\n",
    "\n",
    "\n",
    "### Approach\n",
    "Let `left_sum = 0` and `right_sum = sum of nums`. For each num in nums, add it to left_sum and deduct to the right_sum. \n",
    "Then compare the current left_sum and right_sum: if it is `>=`, then increment the valid count."
   ]
  },
  {
   "cell_type": "code",
   "execution_count": 11,
   "metadata": {},
   "outputs": [
    {
     "name": "stdout",
     "output_type": "stream",
     "text": [
      "2\n"
     ]
    }
   ],
   "source": [
    "from typing import List\n",
    "\n",
    "def waysToSplitArray(nums: List[int]) -> int:\n",
    "    left_sum = 0\n",
    "    right_sum = sum(nums)\n",
    "    valid_count = 0\n",
    "\n",
    "    for i in range(len(nums) - 1):\n",
    "        left_sum += nums[i]\n",
    "        right_sum -= nums[i]\n",
    "        if left_sum >= right_sum:\n",
    "            valid_count += 1\n",
    "\n",
    "    return valid_count\n",
    "\n",
    "print(waysToSplitArray([10,4,-8,7]))"
   ]
  },
  {
   "cell_type": "markdown",
   "metadata": {},
   "source": [
    "# January 04, 2025\n",
    "\n",
    "[1930. Unique Length-3 Palindromic Subsequences (Medium)](https://leetcode.com/problems/unique-length-3-palindromic-subsequences/description/?envType=daily-question&envId=2025-01-04)\n",
    "\n",
    "\n",
    "### Instruction\n",
    "Given a string s, return the number of unique palindromes of length three that are a subsequence of s.\n",
    "\n",
    "Note that even if there are multiple ways to obtain the same subsequence, it is still only counted once.\n",
    "\n",
    "A palindrome is a string that reads the same forwards and backwards.\n",
    "\n",
    "A subsequence of a string is a new string generated from the original string with some characters (can be none) deleted without changing the relative order of the remaining characters.\n",
    "\n",
    "For example, \"ace\" is a subsequence of \"abcde\".\n",
    "\n",
    "\n",
    "### Approach\n",
    "Look for pairs of same letters from the flanks of the string. When a pair is found, the *palindrome count = size of the set of letters from substring* between the pair."
   ]
  },
  {
   "cell_type": "code",
   "execution_count": 24,
   "metadata": {},
   "outputs": [
    {
     "name": "stdout",
     "output_type": "stream",
     "text": [
      "4\n"
     ]
    }
   ],
   "source": [
    "def countPalindromicSubsequence(s: str) -> int:\n",
    "    # make a set of checked letters and init palindrome count to 0\n",
    "    checked_pairs = set()\n",
    "    palindrome_count = 0\n",
    "    s_len = len(s)\n",
    "    \n",
    "    # start letter: iterate from s[0] to s[-2]\n",
    "    for start in range(s_len-2):\n",
    "        # skip checked start letters\n",
    "        if (s[start] in checked_pairs):\n",
    "            continue\n",
    "\n",
    "        # record letter as checked\n",
    "        checked_pairs.add(s[start])\n",
    "\n",
    "        # new start letter is found, find its pair from the end\n",
    "        for end in range(s_len-1, start+1, -1):\n",
    "\n",
    "            # if pair found, get palindrome count by turning mid substr into set and count the letters \n",
    "            if s[start] == s[end]:\n",
    "                palindrome_count += len(set(s[start+1:end]))\n",
    "                break\n",
    "                \n",
    "    return palindrome_count\n",
    "\n",
    "count = countPalindromicSubsequence(\"bbcbaba\")\n",
    "print(count)"
   ]
  },
  {
   "cell_type": "markdown",
   "metadata": {},
   "source": [
    "# January 05, 2025\n",
    "\n",
    "[2381. Shifting Letters II (Medium)](https://leetcode.com/problems/shifting-letters-ii/description/?envType=daily-question&envId=2025-01-05)\n",
    "\n",
    "\n",
    "### Instruction\n",
    "You are given a string s of lowercase English letters and a 2D integer array shifts where shifts[i] = [starti, endi, directioni]. For every i, shift the characters in s from the index starti to the index endi (inclusive) forward if directioni = 1, or shift the characters backward if directioni = 0.\n",
    "\n",
    "Shifting a character forward means replacing it with the next letter in the alphabet (wrapping around so that 'z' becomes 'a'). Similarly, shifting a character backward means replacing it with the previous letter in the alphabet (wrapping around so that 'a' becomes 'z').\n",
    "\n",
    "Return the final string after all such shifts to s are applied.\n",
    "\n",
    "\n",
    "### Approach\n",
    "Use differential array with size equal to one more the num of letters.\n",
    "\n",
    "Marking Changes:\n",
    "- At start, you apply the change (increment or decrement).\n",
    "- At end+1, you \"undo\" the change to stop its effect beyond the range.\n",
    "\n",
    "Then, propagating the changes: when iterating over the differential array, accumulate the shifts and apply them to the characters in a single pass."
   ]
  },
  {
   "cell_type": "code",
   "execution_count": 56,
   "metadata": {},
   "outputs": [
    {
     "name": "stdout",
     "output_type": "stream",
     "text": [
      "ace\n",
      "catz\n"
     ]
    }
   ],
   "source": [
    "from typing import List\n",
    "\n",
    "def shiftingLetters(s: str, shifts: List[List[int]]) -> str:\n",
    "    n = len(s)\n",
    "    shift_diffs = [0] * (n + 1)\n",
    "    \n",
    "    # populate the differential array\n",
    "    for start, end, direction in shifts:\n",
    "        increment = 1 if direction == 1 else -1\n",
    "        shift_diffs[start] += increment\n",
    "        shift_diffs[end + 1] -= increment\n",
    "    \n",
    "    # compute the cumulative shifts\n",
    "    cumulative_shift = 0\n",
    "    num_string = []\n",
    "    for i, letter in enumerate(s):\n",
    "        cumulative_shift += shift_diffs[i]\n",
    "        shifted_char = chr((ord(letter) - 97 + cumulative_shift) % 26 + 97)\n",
    "        num_string.append(shifted_char)\n",
    "    \n",
    "    return ''.join(num_string)\n",
    "\n",
    "\n",
    "print(shiftingLetters(\"abc\", [[0,1,0],[1,2,1],[0,2,1]]))\n",
    "print(shiftingLetters(\"dztz\", [[0,0,0],[1,1,1]]))"
   ]
  },
  {
   "cell_type": "markdown",
   "metadata": {},
   "source": [
    "# January 06, 2025\n",
    "\n",
    "[1769. Minimum Number of Operations to Move All Balls to Each Box (Medium)](https://leetcode.com/problems/minimum-number-of-operations-to-move-all-balls-to-each-box/description/)\n",
    "\n",
    "\n",
    "### Instruction\n",
    "You have n boxes. You are given a binary string boxes of length n, where boxes[i] is '0' if the ith box is empty, and '1' if it contains one ball.\n",
    "\n",
    "In one operation, you can move one ball from a box to an adjacent box. Box i is adjacent to box j if abs(i - j) == 1. Note that after doing so, there may be more than one ball in some boxes.\n",
    "\n",
    "Return an array answer of size n, where answer[i] is the minimum number of operations needed to move all the balls to the ith box.\n",
    "\n",
    "Each answer[i] is calculated considering the initial state of the boxes.\n",
    "\n",
    "\n",
    "### Approach\n",
    "Suppose in an array of 6 boxes, the only one with the ball is at index 2 (`\"001000\"`). For the boxes[0] to boxes[1], the moves are 0. For the rest, it is 1, 2, 3 respectively, hence the cummulative sum from boxes[2]. The answer array would then be = [0, 0, 1, 2, 3]. \n",
    "\n",
    "Now, given the same array of 6 boxes as above, there is another ball at index 3 (`\"001100\"`). From boxes[3], the cummulative sum would be 1 and 2 respectively. Therefore, the answer array is nothing more than the combination of the two answer arrays: `[0, 0, 0, 1, 2, 3] + [0, 0, 0, 0, 1, 2] = [0, 0, 0, 1, 3, 5]`\n",
    "\n",
    "This process can be simplified if by recording the balls: \n",
    " - From boxes[0] to boxes[2], no balls are found before, so next index += 0 \n",
    " - From boxes[3] to boxes[3], 1 ball is found before, so next index += 1\n",
    " - From boxes[4] to boxes[5], 2 balls are found before, so next index += 2\n",
    "\n",
    "Therefore, to find the moves in an index, add the current move. Then update the ball count and increment the next move with the current ball count. \n",
    "\n",
    "However, this only works from left to right. To account for right to left, just do the same proces in reverse and sum up the move for each position."
   ]
  },
  {
   "cell_type": "code",
   "execution_count": 16,
   "metadata": {},
   "outputs": [
    {
     "name": "stdout",
     "output_type": "stream",
     "text": [
      "[11, 8, 5, 4, 3, 4]\n"
     ]
    }
   ],
   "source": [
    "from typing import List\n",
    "\n",
    "def minOperations(boxes: str) -> List[int]:\n",
    "    n = len(boxes)\n",
    "    answer = [0] * n\n",
    "\n",
    "    # initialize the moves and the balls\n",
    "    left_moves = 0\n",
    "    left_balls = 0\n",
    "    right_moves = 0\n",
    "    right_balls = 0\n",
    "\n",
    "\n",
    "    for i in range(n):\n",
    "        # left pass\n",
    "        answer[i] += left_moves         # add the moves for the curr position\n",
    "        left_balls += int(boxes[i])     # update the balls\n",
    "        left_moves += left_balls        # increment moves with ball count\n",
    "\n",
    "        # right pass\n",
    "        j = n - 1 - i\n",
    "        answer[j] += right_moves\n",
    "        right_balls += int(boxes[j])\n",
    "        right_moves += right_balls\n",
    "\n",
    "    return answer\n",
    "\n",
    "\n",
    "print(minOperations(\"001011\"))"
   ]
  },
  {
   "cell_type": "markdown",
   "metadata": {},
   "source": [
    "# January 07, 2025\n",
    "\n",
    "[1408. String Matching in an Array (Easy)](https://leetcode.com/problems/string-matching-in-an-array/description/?envType=daily-question&envId=2025-01-07)\n",
    "\n",
    "\n",
    "### Instruction\n",
    "Given an array of string words, return all strings in words that is a substring of another word. You can return the answer in any order.\n",
    "\n",
    "A substring is a contiguous sequence of characters within a string\n",
    "\n",
    "### Approach\n",
    "Just combine the array into a string then count the instances of each string. IF it appears twice, it's good."
   ]
  },
  {
   "cell_type": "code",
   "execution_count": 4,
   "metadata": {},
   "outputs": [
    {
     "name": "stdout",
     "output_type": "stream",
     "text": [
      "['as', 'hero']\n"
     ]
    }
   ],
   "source": [
    "from typing import List\n",
    "\n",
    "def stringMatching(words: List[str]) -> List[str]:\n",
    "    r=' '.join(words)\n",
    "    s=[i for i in words if r.count(i)>1]\n",
    "    return s\n",
    "\n",
    "print(stringMatching([\"mass\",\"as\",\"hero\",\"superhero\"]))"
   ]
  },
  {
   "cell_type": "markdown",
   "metadata": {},
   "source": [
    "# January 08, 2025\n",
    "\n",
    "[3042. Count Prefix and Suffix Pairs I (Easy)](https://leetcode.com/problems/count-prefix-and-suffix-pairs-i/description/?envType=daily-question&envId=2025-01-08)\n",
    "\n",
    "\n",
    "### Instruction\n",
    "You are given a 0-indexed string array words.\n",
    "\n",
    "Let's define a boolean function isPrefixAndSuffix that takes two strings, str1 and str2: \n",
    "isPrefixAndSuffix(str1, str2) returns true if str1 is both a prefix and a suffix of str2, and false otherwise.\n",
    "\n",
    "For example, isPrefixAndSuffix(\"aba\", \"ababa\") is true because \"aba\" is a prefix of \"ababa\" and also a suffix, but isPrefixAndSuffix(\"abc\", \"abcd\") is false.\n",
    "\n",
    "Return an integer denoting the number of index pairs (i, j) such that i < j, and isPrefixAndSuffix(words[i], words[j]) is true.\n",
    "\n",
    "### Approach\n",
    "Brute force"
   ]
  },
  {
   "cell_type": "code",
   "execution_count": 29,
   "metadata": {},
   "outputs": [
    {
     "name": "stdout",
     "output_type": "stream",
     "text": [
      "2\n"
     ]
    }
   ],
   "source": [
    "from typing import List\n",
    "\n",
    "def isPrefixAndSuffix(str1, str2):\n",
    "    sub_len = len(str1)\n",
    "    return str2[0:sub_len] == str1 and str2[-sub_len:len(str2)] == str1\n",
    "\n",
    "\n",
    "def countPrefixSuffixPairs(words: List[str]):\n",
    "    length = len(words)\n",
    "    #words.sort(key=len)\n",
    "    count = 0\n",
    "\n",
    "    for index, word in enumerate(words):\n",
    "        for i in range(index + 1, length):\n",
    "            count += 1 if isPrefixAndSuffix(word, words[i]) else 0\n",
    "\n",
    "    return count\n",
    "\n",
    "\n",
    "print(countPrefixSuffixPairs([\"pa\",\"papa\",\"ma\",\"mama\"]))"
   ]
  }
 ],
 "metadata": {
  "kernelspec": {
   "display_name": "Python 3",
   "language": "python",
   "name": "python3"
  },
  "language_info": {
   "codemirror_mode": {
    "name": "ipython",
    "version": 3
   },
   "file_extension": ".py",
   "mimetype": "text/x-python",
   "name": "python",
   "nbconvert_exporter": "python",
   "pygments_lexer": "ipython3",
   "version": "3.10.11"
  }
 },
 "nbformat": 4,
 "nbformat_minor": 2
}
