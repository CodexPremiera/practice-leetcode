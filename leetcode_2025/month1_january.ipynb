{
 "cells": [
  {
   "cell_type": "markdown",
   "metadata": {},
   "source": [
    "# January 01, 2025\n",
    "\n",
    "[1422. Maximum Score After Splitting a String (Easy)](https://leetcode.com/problems/maximum-score-after-splitting-a-string/description/?envType=daily-question&envId=2025-01-01)\n",
    "\n",
    "\n",
    "### Instruction\n",
    "Given a string s of zeros and ones, return the maximum score after splitting the string into two non-empty substrings (i.e. left substring and right substring).\n",
    "\n",
    "The score after splitting a string is the number of zeros in the left substring plus the number of ones in the right substring.\n",
    "\n",
    "### Approach\n",
    "This approach counts the total 1's first. Then iterates until the second-last letter to count the 1's and o's, tracking the max as it passes through. The time ccomplexity is O(n)."
   ]
  },
  {
   "cell_type": "code",
   "execution_count": 4,
   "metadata": {},
   "outputs": [
    {
     "name": "stdout",
     "output_type": "stream",
     "text": [
      "6\n"
     ]
    }
   ],
   "source": [
    "def maxScore(s: str) -> int:\n",
    "    count0 = 0    # left score\n",
    "    count1 = 0    # right score\n",
    "    ans = 0\n",
    "    \n",
    "    # count total 1's\n",
    "    for i in range(len(s)):\n",
    "        if s[i] == '1':\n",
    "            count1 += 1\n",
    "\n",
    "    # get scores\n",
    "    for i in range(len(s) - 1):\n",
    "        if s[i] == '0':\n",
    "            count0 += 1\n",
    "        else:\n",
    "            count1 += -1\n",
    "        ans = max(count0 + count1, ans)\n",
    "\n",
    "    return ans\n",
    "\n",
    "result = maxScore(\"0011101\")\n",
    "print(result)\n"
   ]
  },
  {
   "cell_type": "markdown",
   "metadata": {},
   "source": [
    "# January 02, 2025\n",
    "\n",
    "[2559. Count Vowel Strings in Ranges (Medium)](https://leetcode.com/problems/count-vowel-strings-in-ranges/description/?envType=daily-question&envId=2025-01-02)\n",
    "\n",
    "\n",
    "### Instruction\n",
    "You are given a 0-indexed array of strings words and a 2D array of integers queries.\n",
    "\n",
    "Each query queries[i] = [li, ri] asks us to find the number of strings present in the range li to ri (both inclusive) of words that start and end with a vowel.\n",
    "\n",
    "Return an array ans of size queries.length, where ans[i] is the answer to the ith query.\n",
    "\n",
    "Note that the vowel letters are 'a', 'e', 'i', 'o', and 'u'.\n",
    "\n",
    "### Approach\n",
    "Map the cummulative sum of the vowel strings in words. Then get the count in the query range by subtracting `query[0] - 1` and `query[1]`"
   ]
  },
  {
   "cell_type": "code",
   "execution_count": 15,
   "metadata": {},
   "outputs": [
    {
     "name": "stdout",
     "output_type": "stream",
     "text": [
      "[2, 3, 0]\n"
     ]
    }
   ],
   "source": [
    "from typing import List\n",
    "\n",
    "def vowelStrings(words: List[str], queries: List[List[int]]) -> List[int]:\n",
    "    vowels = {'a', 'e', 'i', 'o', 'u'}\n",
    "    \n",
    "    # map the words with cummulative sum of vowel stings \n",
    "    word_count = len(words)\n",
    "    word_map = [0] * (word_count + 1)\n",
    "\n",
    "    for i in range(word_count):\n",
    "        word = words[i]\n",
    "        word_map[i] = word_map[i-1]\n",
    "        if (word[0] in vowels and word[-1] in vowels):\n",
    "            word_map[i] += 1\n",
    "\n",
    "    # answer queries: count the valid words in the range in each query\n",
    "    ans = []\n",
    "    for query in queries:\n",
    "        start = query[0] - 1\n",
    "        end = query[1]\n",
    "        ans.append(word_map[end] - word_map[start])\n",
    "\n",
    "    return ans\n",
    "\n",
    "word_list = [\"aba\",\"bcb\",\"ece\",\"aa\",\"e\"]\n",
    "queries_list = [[0,2],[1,4],[1,1]]\n",
    "\n",
    "print(vowelStrings(word_list, queries_list))\n",
    "        "
   ]
  },
  {
   "cell_type": "markdown",
   "metadata": {},
   "source": [
    "# January 03, 2025\n",
    "\n",
    "[2270. Number of Ways to Split Array (Medium)](https://leetcode.com/problems/number-of-ways-to-split-array/description/?envType=daily-question&envId=2025-01-03)\n",
    "\n",
    "\n",
    "### Instruction\n",
    "You are given a 0-indexed integer array nums of length n.\n",
    "\n",
    "nums contains a valid split at index i if the following are true:\n",
    "\n",
    "The sum of the first i + 1 elements is greater than or equal to the sum of the last n - i - 1 elements.\n",
    "There is at least one element to the right of i. That is, 0 <= i < n - 1.\n",
    "Return the number of valid splits in nums.\n",
    "\n",
    "\n",
    "### Approach\n",
    "Let `left_sum = 0` and `right_sum = sum of nums`. For each num in nums, add it to left_sum and deduct to the right_sum. \n",
    "Then compare the current left_sum and right_sum: if it is `>=`, then increment the valid count."
   ]
  },
  {
   "cell_type": "code",
   "execution_count": 11,
   "metadata": {},
   "outputs": [
    {
     "name": "stdout",
     "output_type": "stream",
     "text": [
      "2\n"
     ]
    }
   ],
   "source": [
    "from typing import List\n",
    "\n",
    "def waysToSplitArray(nums: List[int]) -> int:\n",
    "    left_sum = 0\n",
    "    right_sum = sum(nums)\n",
    "    valid_count = 0\n",
    "\n",
    "    for i in range(len(nums) - 1):\n",
    "        left_sum += nums[i]\n",
    "        right_sum -= nums[i]\n",
    "        if left_sum >= right_sum:\n",
    "            valid_count += 1\n",
    "\n",
    "    return valid_count\n",
    "\n",
    "print(waysToSplitArray([10,4,-8,7]))"
   ]
  },
  {
   "cell_type": "markdown",
   "metadata": {},
   "source": [
    "# January 04, 2025\n",
    "\n",
    "[1930. Unique Length-3 Palindromic Subsequences (Medium)](https://leetcode.com/problems/unique-length-3-palindromic-subsequences/description/?envType=daily-question&envId=2025-01-04)\n",
    "\n",
    "\n",
    "### Instruction\n",
    "Given a string s, return the number of unique palindromes of length three that are a subsequence of s.\n",
    "\n",
    "Note that even if there are multiple ways to obtain the same subsequence, it is still only counted once.\n",
    "\n",
    "A palindrome is a string that reads the same forwards and backwards.\n",
    "\n",
    "A subsequence of a string is a new string generated from the original string with some characters (can be none) deleted without changing the relative order of the remaining characters.\n",
    "\n",
    "For example, \"ace\" is a subsequence of \"abcde\".\n",
    "\n",
    "\n",
    "### Approach\n",
    "Look for pairs of same letters from the flanks of the string. When a pair is found, the *palindrome count = size of the set of letters from substring* between the pair."
   ]
  },
  {
   "cell_type": "code",
   "execution_count": 24,
   "metadata": {},
   "outputs": [
    {
     "name": "stdout",
     "output_type": "stream",
     "text": [
      "4\n"
     ]
    }
   ],
   "source": [
    "def countPalindromicSubsequence(s: str) -> int:\n",
    "    # make a set of checked letters and init palindrome count to 0\n",
    "    checked_pairs = set()\n",
    "    palindrome_count = 0\n",
    "    s_len = len(s)\n",
    "    \n",
    "    # start letter: iterate from s[0] to s[-2]\n",
    "    for start in range(s_len-2):\n",
    "        # skip checked start letters\n",
    "        if (s[start] in checked_pairs):\n",
    "            continue\n",
    "\n",
    "        # record letter as checked\n",
    "        checked_pairs.add(s[start])\n",
    "\n",
    "        # new start letter is found, find its pair from the end\n",
    "        for end in range(s_len-1, start+1, -1):\n",
    "\n",
    "            # if pair found, get palindrome count by turning mid substr into set and count the letters \n",
    "            if s[start] == s[end]:\n",
    "                palindrome_count += len(set(s[start+1:end]))\n",
    "                break\n",
    "                \n",
    "    return palindrome_count\n",
    "\n",
    "count = countPalindromicSubsequence(\"bbcbaba\")\n",
    "print(count)"
   ]
  }
 ],
 "metadata": {
  "kernelspec": {
   "display_name": "Python 3",
   "language": "python",
   "name": "python3"
  },
  "language_info": {
   "codemirror_mode": {
    "name": "ipython",
    "version": 3
   },
   "file_extension": ".py",
   "mimetype": "text/x-python",
   "name": "python",
   "nbconvert_exporter": "python",
   "pygments_lexer": "ipython3",
   "version": "3.10.11"
  }
 },
 "nbformat": 4,
 "nbformat_minor": 2
}
