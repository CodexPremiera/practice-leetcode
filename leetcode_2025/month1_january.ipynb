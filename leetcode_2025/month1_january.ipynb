{
 "cells": [
  {
   "cell_type": "markdown",
   "metadata": {},
   "source": [
    "# January 01, 2025\n",
    "\n",
    "[1422. Maximum Score After Splitting a String (Easy)](https://leetcode.com/problems/maximum-score-after-splitting-a-string/description/?envType=daily-question&envId=2025-01-01)\n",
    "\n",
    "\n",
    "### Instruction\n",
    "Given a string s of zeros and ones, return the maximum score after splitting the string into two non-empty substrings (i.e. left substring and right substring).\n",
    "\n",
    "The score after splitting a string is the number of zeros in the left substring plus the number of ones in the right substring.\n",
    "\n",
    "### Approach\n",
    "This approach counts the total 1's first. Then iterates until the second-last letter to count the 1's and o's, tracking the max as it passes through. The time complexity is O(n)."
   ]
  },
  {
   "cell_type": "code",
   "metadata": {
    "ExecuteTime": {
     "end_time": "2025-01-17T01:09:34.058996Z",
     "start_time": "2025-01-17T01:09:34.032740Z"
    }
   },
   "source": [
    "import collections\n",
    "\n",
    "\n",
    "def max_score(s: str) -> int:\n",
    "    count0 = 0    # left score\n",
    "    count1 = 0    # right score\n",
    "    ans = 0\n",
    "    \n",
    "    # count total 1's\n",
    "    for i in range(len(s)):\n",
    "        if s[i] == '1':\n",
    "            count1 += 1\n",
    "\n",
    "    # get scores\n",
    "    for i in range(len(s) - 1):\n",
    "        if s[i] == '0':\n",
    "            count0 += 1\n",
    "        else:\n",
    "            count1 += -1\n",
    "        ans = max(count0 + count1, ans)\n",
    "\n",
    "    return ans\n",
    "\n",
    "result = max_score(\"0011101\")\n",
    "print(result)\n"
   ],
   "outputs": [
    {
     "name": "stdout",
     "output_type": "stream",
     "text": [
      "6\n"
     ]
    }
   ],
   "execution_count": 2
  },
  {
   "cell_type": "markdown",
   "metadata": {},
   "source": [
    "# January 02, 2025\n",
    "\n",
    "[2559. Count Vowel Strings in Ranges (Medium)](https://leetcode.com/problems/count-vowel-strings-in-ranges/description/?envType=daily-question&envId=2025-01-02)\n",
    "\n",
    "\n",
    "### Instruction\n",
    "You are given a 0-indexed array of strings words and a 2D array of integers queries.\n",
    "\n",
    "Each query queries[i] = [li, ri] asks us to find the number of strings present in the range li to ri (both inclusive) of words that start and end with a vowel.\n",
    "\n",
    "Return an array ans of size queries.length, where ans[i] is the answer to the ith query.\n",
    "\n",
    "Note that the vowel letters are 'a', 'e', 'i', 'o', and 'u'.\n",
    "\n",
    "### Approach\n",
    "Map the cumulative sum of the vowel strings in words. Then get the count in the query range by subtracting `query[0] - 1` and `query[1]`"
   ]
  },
  {
   "cell_type": "code",
   "metadata": {
    "ExecuteTime": {
     "end_time": "2025-01-17T01:09:34.501553Z",
     "start_time": "2025-01-17T01:09:34.283899Z"
    }
   },
   "source": [
    "from typing import List\n",
    "\n",
    "def vowel_strings(words: List[str], queries: List[List[int]]) -> List[int]:\n",
    "    vowels = {'a', 'e', 'i', 'o', 'u'}\n",
    "    \n",
    "    # map the words with cumulative sum of vowel stings \n",
    "    word_count = len(words)\n",
    "    word_map = [0] * (word_count + 1)\n",
    "\n",
    "    for i in range(word_count):\n",
    "        word = words[i]\n",
    "        word_map[i] = word_map[i-1]\n",
    "        if word[0] in vowels and word[-1] in vowels:\n",
    "            word_map[i] += 1\n",
    "\n",
    "    # answer queries: count the valid words in the range in each query\n",
    "    ans = []\n",
    "    for query in queries:\n",
    "        start = query[0] - 1\n",
    "        end = query[1]\n",
    "        ans.append(word_map[end] - word_map[start])\n",
    "\n",
    "    return ans\n",
    "\n",
    "word_list = [\"aba\",\"bcb\",\"ece\",\"aa\",\"e\"]\n",
    "queries_list = [[0,2],[1,4],[1,1]]\n",
    "\n",
    "print(vowel_strings(word_list, queries_list))\n",
    "        "
   ],
   "outputs": [
    {
     "name": "stdout",
     "output_type": "stream",
     "text": [
      "[2, 3, 0]\n"
     ]
    }
   ],
   "execution_count": 3
  },
  {
   "cell_type": "markdown",
   "metadata": {},
   "source": [
    "# January 03, 2025\n",
    "\n",
    "[2270. Number of Ways to Split Array (Medium)](https://leetcode.com/problems/number-of-ways-to-split-array/description/?envType=daily-question&envId=2025-01-03)\n",
    "\n",
    "\n",
    "### Instruction\n",
    "You are given a 0-indexed integer array nums of length n.\n",
    "\n",
    "nums contains a valid split at index i if the following are true:\n",
    "\n",
    "The sum of the first i + 1 elements is greater than or equal to the sum of the last n - i - 1 elements.\n",
    "There is at least one element to the right of i. That is, 0 <= i < n - 1.\n",
    "Return the number of valid splits in nums.\n",
    "\n",
    "\n",
    "### Approach\n",
    "Let `left_sum = 0` and `right_sum = sum of nums`. For each num in nums, add it to left_sum and deduct to the right_sum. \n",
    "Then compare the current left_sum and right_sum: if it is `>=`, then increment the valid count."
   ]
  },
  {
   "cell_type": "code",
   "metadata": {
    "ExecuteTime": {
     "end_time": "2025-01-17T01:09:34.614938Z",
     "start_time": "2025-01-17T01:09:34.507330Z"
    }
   },
   "source": [
    "from typing import List\n",
    "\n",
    "def ways_to_split_array(nums: List[int]) -> int:\n",
    "    left_sum = 0\n",
    "    right_sum = sum(nums)\n",
    "    valid_count = 0\n",
    "\n",
    "    for i in range(len(nums) - 1):\n",
    "        left_sum += nums[i]\n",
    "        right_sum -= nums[i]\n",
    "        if left_sum >= right_sum:\n",
    "            valid_count += 1\n",
    "\n",
    "    return valid_count\n",
    "\n",
    "print(ways_to_split_array([10, 4, -8, 7]))"
   ],
   "outputs": [
    {
     "name": "stdout",
     "output_type": "stream",
     "text": [
      "2\n"
     ]
    }
   ],
   "execution_count": 4
  },
  {
   "cell_type": "markdown",
   "metadata": {},
   "source": [
    "# January 04, 2025\n",
    "\n",
    "[1930. Unique Length-3 Palindromic Subsequences (Medium)](https://leetcode.com/problems/unique-length-3-palindromic-subsequences/description/?envType=daily-question&envId=2025-01-04)\n",
    "\n",
    "\n",
    "### Instruction\n",
    "Given a string s, return the number of unique palindromes of length three that are a subsequence of s.\n",
    "\n",
    "Note that even if there are multiple ways to obtain the same subsequence, it is still only counted once.\n",
    "\n",
    "A palindrome is a string that reads the same forwards and backwards.\n",
    "\n",
    "A subsequence of a string is a new string generated from the original string with some characters (can be none) deleted without changing the relative order of the remaining characters.\n",
    "\n",
    "For example, \"ace\" is a subsequence of \"abcde\".\n",
    "\n",
    "\n",
    "### Approach\n",
    "Look for pairs of same letters from the flanks of the string. When a pair is found, the *palindrome count = size of the set of letters from substring* between the pair."
   ]
  },
  {
   "cell_type": "code",
   "metadata": {
    "ExecuteTime": {
     "end_time": "2025-01-17T01:09:34.657607Z",
     "start_time": "2025-01-17T01:09:34.618933Z"
    }
   },
   "source": [
    "def count_palindromic_subsequence(s: str) -> int:\n",
    "    # make a set of checked letters and init palindrome count to 0\n",
    "    checked_pairs = set()\n",
    "    palindrome_count = 0\n",
    "    s_len = len(s)\n",
    "    \n",
    "    # start letter: iterate from s[0] to s[-2]\n",
    "    for start in range(s_len-2):\n",
    "        # skip checked start letters\n",
    "        if s[start] in checked_pairs:\n",
    "            continue\n",
    "\n",
    "        # record letter as checked\n",
    "        checked_pairs.add(s[start])\n",
    "\n",
    "        # new start letter is found, find its pair from the end\n",
    "        for end in range(s_len-1, start+1, -1):\n",
    "\n",
    "            # if pair found, get palindrome count by turning mid substr into set and count the letters \n",
    "            if s[start] == s[end]:\n",
    "                palindrome_count += len(set(s[start+1:end]))\n",
    "                break\n",
    "                \n",
    "    return palindrome_count\n",
    "\n",
    "s_length = count_palindromic_subsequence(\"bbcbaba\")\n",
    "print(s_length)"
   ],
   "outputs": [
    {
     "name": "stdout",
     "output_type": "stream",
     "text": [
      "4\n"
     ]
    }
   ],
   "execution_count": 5
  },
  {
   "cell_type": "markdown",
   "metadata": {},
   "source": [
    "# January 05, 2025\n",
    "\n",
    "[2381. Shifting Letters II (Medium)](https://leetcode.com/problems/shifting-letters-ii/description/?envType=daily-question&envId=2025-01-05)\n",
    "\n",
    "\n",
    "### Instruction\n",
    "You are given a string s of lowercase English letters and a 2D integer array shifts where shifts[i] = [start[i], end[i], direction[i]]. For every i, shift the characters in s from the index start[i] to the index endi (inclusive) forward if direction[i] = 1, or shift the characters backward if direction[i] = 0.\n",
    "\n",
    "Shifting a character forward means replacing it with the next letter in the alphabet (wrapping around so that 'z' becomes 'a'). Similarly, shifting a character backward means replacing it with the previous letter in the alphabet (wrapping around so that 'a' becomes 'z').\n",
    "\n",
    "Return the final string after all such shifts to s are applied.\n",
    "\n",
    "\n",
    "### Approach\n",
    "Use differential array with size equal to one more the num of letters.\n",
    "\n",
    "Marking Changes:\n",
    "- At start, you apply the change (increment or decrement).\n",
    "- At end+1, you \"undo\" the change to stop its effect beyond the range.\n",
    "\n",
    "Then, propagating the changes: when iterating over the differential array, accumulate the shifts and apply them to the characters in a single pass."
   ]
  },
  {
   "cell_type": "code",
   "metadata": {
    "ExecuteTime": {
     "end_time": "2025-01-17T01:09:34.775451Z",
     "start_time": "2025-01-17T01:09:34.665606Z"
    }
   },
   "source": [
    "from typing import List\n",
    "\n",
    "def shifting_letters(s: str, shifts: List[List[int]]) -> str:\n",
    "    n = len(s)\n",
    "    shift_diffs = [0] * (n + 1)\n",
    "    \n",
    "    # populate the differential array\n",
    "    for start, end, direction in shifts:\n",
    "        increment = 1 if direction == 1 else -1\n",
    "        shift_diffs[start] += increment\n",
    "        shift_diffs[end + 1] -= increment\n",
    "    \n",
    "    # compute the cumulative shifts\n",
    "    cumulative_shift = 0\n",
    "    num_string = []\n",
    "    for i, letter in enumerate(s):\n",
    "        cumulative_shift += shift_diffs[i]\n",
    "        shifted_char = chr((ord(letter) - 97 + cumulative_shift) % 26 + 97)\n",
    "        num_string.append(shifted_char)\n",
    "    \n",
    "    return ''.join(num_string)\n",
    "\n",
    "\n",
    "print(shifting_letters(\"abc\", [[0, 1, 0], [1, 2, 1], [0, 2, 1]]))\n",
    "print(shifting_letters(\"dztz\", [[0, 0, 0], [1, 1, 1]]))"
   ],
   "outputs": [
    {
     "name": "stdout",
     "output_type": "stream",
     "text": [
      "ace\n",
      "catz\n"
     ]
    }
   ],
   "execution_count": 6
  },
  {
   "cell_type": "markdown",
   "metadata": {},
   "source": [
    "# January 06, 2025\n",
    "\n",
    "[1769. Minimum Number of Operations to Move All Balls to Each Box (Medium)](https://leetcode.com/problems/minimum-number-of-operations-to-move-all-balls-to-each-box/description/)\n",
    "\n",
    "\n",
    "### Instruction\n",
    "You have n boxes. You are given a binary string boxes of length n, where boxes[i] is '0' if the ith box is empty, and '1' if it contains one ball.\n",
    "\n",
    "In one operation, you can move one ball from a box to an adjacent box. Box i is adjacent to box j if abs(i - j) == 1. Note that after doing so, there may be more than one ball in some boxes.\n",
    "\n",
    "Return an array answer of size n, where answer[i] is the minimum number of operations needed to move all the balls to the ith box.\n",
    "\n",
    "Each answer[i] is calculated considering the initial state of the boxes.\n",
    "\n",
    "\n",
    "### Approach\n",
    "Suppose in an array of 6 boxes, the only one with the ball is at index 2 (`\"001000\"`). For the boxes[0] to boxes[1], the moves are 0. For the rest, it is 1, 2, 3 respectively, hence the cummulative sum from boxes[2]. The answer array would then be = [0, 0, 1, 2, 3]. \n",
    "\n",
    "Now, given the same array of 6 boxes as above, there is another ball at index 3 (`\"001100\"`). From boxes[3], the cummulative sum would be 1 and 2 respectively. Therefore, the answer array is nothing more than the combination of the two answer arrays: `[0, 0, 0, 1, 2, 3] + [0, 0, 0, 0, 1, 2] = [0, 0, 0, 1, 3, 5]`\n",
    "\n",
    "This process can be simplified if by recording the balls: \n",
    " - From boxes[0] to boxes[2], no balls are found before, so next index += 0 \n",
    " - From boxes[3] to boxes[3], 1 ball is found before, so next index += 1\n",
    " - From boxes[4] to boxes[5], 2 balls are found before, so next index += 2\n",
    "\n",
    "Therefore, to find the moves in an index, add the current move. Then update the ball count and increment the next move with the current ball count. \n",
    "\n",
    "However, this only works from left to right. To account for right to left, just do the same proces in reverse and sum up the move for each position."
   ]
  },
  {
   "cell_type": "code",
   "metadata": {
    "ExecuteTime": {
     "end_time": "2025-01-17T01:09:34.828527Z",
     "start_time": "2025-01-17T01:09:34.780002Z"
    }
   },
   "source": [
    "from typing import List\n",
    "\n",
    "def min_operations(boxes: str) -> List[int]:\n",
    "    n = len(boxes)\n",
    "    answer = [0] * n\n",
    "\n",
    "    # initialize the moves and the balls\n",
    "    left_moves = 0\n",
    "    left_balls = 0\n",
    "    right_moves = 0\n",
    "    right_balls = 0\n",
    "\n",
    "\n",
    "    for i in range(n):\n",
    "        # left pass\n",
    "        answer[i] += left_moves         # add the moves for the curr position\n",
    "        left_balls += int(boxes[i])     # update the balls\n",
    "        left_moves += left_balls        # increment moves with ball count\n",
    "\n",
    "        # right pass\n",
    "        j = n - 1 - i\n",
    "        answer[j] += right_moves\n",
    "        right_balls += int(boxes[j])\n",
    "        right_moves += right_balls\n",
    "\n",
    "    return answer\n",
    "\n",
    "\n",
    "print(min_operations(\"001011\"))"
   ],
   "outputs": [
    {
     "name": "stdout",
     "output_type": "stream",
     "text": [
      "[11, 8, 5, 4, 3, 4]\n"
     ]
    }
   ],
   "execution_count": 7
  },
  {
   "cell_type": "markdown",
   "metadata": {},
   "source": [
    "# January 07, 2025\n",
    "\n",
    "[1408. String Matching in an Array (Easy)](https://leetcode.com/problems/string-matching-in-an-array/description/?envType=daily-question&envId=2025-01-07)\n",
    "\n",
    "\n",
    "### Instruction\n",
    "Given an array of string words, return all strings in words that is a substring of another word. You can return the answer in any order.\n",
    "\n",
    "A substring is a contiguous sequence of characters within a string\n",
    "\n",
    "### Approach\n",
    "Just combine the array into a string then count the instances of each string. IF it appears twice, it's good."
   ]
  },
  {
   "cell_type": "code",
   "metadata": {
    "ExecuteTime": {
     "end_time": "2025-01-17T01:09:34.879604Z",
     "start_time": "2025-01-17T01:09:34.844418Z"
    }
   },
   "source": [
    "from typing import List\n",
    "\n",
    "def string_matching(words: List[str]) -> List[str]:\n",
    "    r=' '.join(words)\n",
    "    s=[i for i in words if r.count(i)>1]\n",
    "    return s\n",
    "\n",
    "print(string_matching([\"mass\", \"as\", \"hero\", \"superhero\"]))"
   ],
   "outputs": [
    {
     "name": "stdout",
     "output_type": "stream",
     "text": [
      "['as', 'hero']\n"
     ]
    }
   ],
   "execution_count": 8
  },
  {
   "cell_type": "markdown",
   "metadata": {},
   "source": [
    "# January 08, 2025\n",
    "\n",
    "[3042. Count Prefix and Suffix Pairs I (Easy)](https://leetcode.com/problems/count-prefix-and-suffix-pairs-i/description/?envType=daily-question&envId=2025-01-08)\n",
    "\n",
    "\n",
    "### Instruction\n",
    "You are given a 0-indexed string array words.\n",
    "\n",
    "Let's define a boolean function isPrefixAndSuffix that takes two strings, str1 and str2: \n",
    "isPrefixAndSuffix(str1, str2) returns true if str1 is both a prefix and a suffix of str2, and false otherwise.\n",
    "\n",
    "For example, isPrefixAndSuffix(\"aba\", \"ababa\") is true because \"aba\" is a prefix of \"ababa\" and also a suffix, but isPrefixAndSuffix(\"abc\", \"abcd\") is false.\n",
    "\n",
    "Return an integer denoting the number of index pairs (i, j) such that i < j, and isPrefixAndSuffix(words[i], words[j]) is true.\n",
    "\n",
    "### Approach\n",
    "Brute force"
   ]
  },
  {
   "cell_type": "code",
   "metadata": {
    "ExecuteTime": {
     "end_time": "2025-01-17T01:09:34.897506Z",
     "start_time": "2025-01-17T01:09:34.883897Z"
    }
   },
   "source": [
    "from typing import List\n",
    "\n",
    "def is_prefix_and_suffix(str1, str2):\n",
    "    sub_len = len(str1)\n",
    "    return str2[0:sub_len] == str1 and str2[-sub_len:len(str2)] == str1\n",
    "\n",
    "\n",
    "def count_prefix_suffix_pairs(words: List[str]):\n",
    "    length = len(words)\n",
    "    #words.sort(key=len)\n",
    "    count = 0\n",
    "\n",
    "    for index, word in enumerate(words):\n",
    "        for i in range(index + 1, length):\n",
    "            count += 1 if is_prefix_and_suffix(word, words[i]) else 0\n",
    "\n",
    "    return count\n",
    "\n",
    "\n",
    "print(count_prefix_suffix_pairs([\"pa\", \"papa\", \"ma\", \"mama\"]))"
   ],
   "outputs": [
    {
     "name": "stdout",
     "output_type": "stream",
     "text": [
      "2\n"
     ]
    }
   ],
   "execution_count": 9
  },
  {
   "cell_type": "markdown",
   "metadata": {},
   "source": [
    "# January 09, 2025\n",
    "\n",
    "[2185. Counting Words With a Given Prefix (Easy)](https://leetcode.com/problems/counting-words-with-a-given-prefix/?envType=daily-question&envId=2025-01-09)\n",
    "\n",
    "\n",
    "### Instruction\n",
    "You are given an array of strings words and a string pref.\n",
    "\n",
    "Return the number of strings in words that contain pref as a prefix.\n",
    "\n",
    "A prefix of a string s is any leading contiguous substring of s.\n",
    "\n",
    "### Approach\n",
    "Brute force"
   ]
  },
  {
   "cell_type": "code",
   "metadata": {
    "ExecuteTime": {
     "end_time": "2025-01-17T01:09:35.051984Z",
     "start_time": "2025-01-17T01:09:35.029522Z"
    }
   },
   "source": [
    "from typing import List\n",
    "\n",
    "def prefix_count(words: List[str], pref: str) -> int:\n",
    "        count = 0\n",
    "        pref_len = len(pref)\n",
    "        for word in words:\n",
    "            if len(word) < pref_len:\n",
    "                continue\n",
    "\n",
    "            count += 1 if word[0:pref_len] == pref else 0\n",
    "\n",
    "        return count\n",
    "\n",
    "\n",
    "print(prefix_count([\"pay\", \"attention\", \"practice\", \"attend\"], \"at\"))"
   ],
   "outputs": [
    {
     "name": "stdout",
     "output_type": "stream",
     "text": [
      "2\n"
     ]
    }
   ],
   "execution_count": 10
  },
  {
   "cell_type": "markdown",
   "metadata": {},
   "source": [
    "# January 10, 2025\n",
    "\n",
    "[916. Word Subsets (Medium)](https://leetcode.com/problems/word-subsets/?envType=daily-question&envId=2025-01-10)\n",
    "\n",
    "\n",
    "### Instruction\n",
    "You are given two string arrays words1 and words2.\n",
    "\n",
    "A string b is a subset of string a if every letter in b occurs in a including multiplicity.\n",
    "\n",
    "For example, \"wrr\" is a subset of \"warrior\" but is not a subset of \"world\".\n",
    "A string a from words1 is universal if for every string b in words2, b is a subset of a.\n",
    "\n",
    "Return an array of all the universal strings in words1. You may return the answer in any order.\n",
    "\n",
    "\n",
    "### Approach\n",
    "???\n"
   ]
  },
  {
   "cell_type": "code",
   "metadata": {
    "ExecuteTime": {
     "end_time": "2025-01-17T01:09:35.251289Z",
     "start_time": "2025-01-17T01:09:35.209226Z"
    }
   },
   "source": [
    "from typing import List\n",
    "\n",
    "def word_subsets(words1: List[str], words2: List[str]) -> List[str]:\n",
    "    # declare dict for frequency matrix of letters\n",
    "    d={}\n",
    "\n",
    "    ans=set(words1)\n",
    "\n",
    "    # count the occur of letters for each word and add the max to dict\n",
    "    for word in words2:\n",
    "        for letter in word:\n",
    "            count=word.count(letter)\n",
    "            if letter not in d or count>d[letter]:\n",
    "                d[letter]=count\n",
    "    \n",
    "    # look for universal sets\n",
    "    for word in words1:\n",
    "        for letter in d:\n",
    "            if word.count(letter)<d[letter]:\n",
    "                ans.remove(word)\n",
    "                break\n",
    "    return list(ans)\n",
    "    \n",
    "\n",
    "\n",
    "words = [\"amazon\",\"apople\",\"apoople\",\"facebook\",\"google\",\"leetcode\"]\n",
    "print(word_subsets(words, [\"lo\", \"eo\", \"pp\"]))\n"
   ],
   "outputs": [
    {
     "name": "stdout",
     "output_type": "stream",
     "text": [
      "['apoople', 'apople']\n"
     ]
    }
   ],
   "execution_count": 11
  },
  {
   "cell_type": "markdown",
   "metadata": {},
   "source": [
    "# January 11, 2025\n",
    "\n",
    "[1400. Construct K Palindrome Strings (Medium)](https://leetcode.com/problems/construct-k-palindrome-strings/submissions/1505151249/?envType=daily-question&envId=2025-01-11)\n",
    "\n",
    "\n",
    "### Instruction\n",
    "Given a string s and an integer k, return true if you can use all the characters in s to construct k palindrome strings or false otherwise.\n",
    "\n",
    "### Approach\n",
    "\n",
    "--"
   ]
  },
  {
   "cell_type": "code",
   "metadata": {
    "ExecuteTime": {
     "end_time": "2025-01-17T01:09:35.344064Z",
     "start_time": "2025-01-17T01:09:35.316764Z"
    }
   },
   "source": [
    "def can_construct(s: str, k: int) -> bool:\n",
    "    if len(s) < k:\n",
    "        return False\n",
    "    sorted_s = sorted(s)\n",
    "    \n",
    "    odd_count = 0\n",
    "    i = 0\n",
    "    \n",
    "    while i < len(sorted_s):\n",
    "        char = sorted_s[i]\n",
    "        count = 0\n",
    "        while i < len(sorted_s) and sorted_s[i] == char:\n",
    "            count += 1\n",
    "            i += 1\n",
    "        if count % 2 == 1:\n",
    "            odd_count += 1\n",
    "    \n",
    "    return odd_count <= k"
   ],
   "outputs": [],
   "execution_count": 12
  },
  {
   "cell_type": "markdown",
   "metadata": {},
   "source": [
    "# January 12, 2025\n",
    "\n",
    "[2116. Check if a Parentheses String Can Be Valid (Medium)](https://leetcode.com/problems/check-if-a-parentheses-string-can-be-valid/description/?envType=daily-question&envId=2025-01-12)\n",
    "\n",
    "\n",
    "### Instruction\n",
    "A parentheses string is a non-empty string consisting only of '(' and ')'. It is valid if any of the following conditions is true:\n",
    "\n",
    "It is ().\n",
    "It can be written as AB (A concatenated with B), where A and B are valid parentheses strings.\n",
    "It can be written as (A), where A is a valid parentheses string.\n",
    "You are given a parentheses string s and a string locked, both of length n. locked is a binary string consisting only of '0's and '1's. For each index i of locked,\n",
    "\n",
    "If locked[i] is '1', you cannot change s[i].\n",
    "But if locked[i] is '0', you can change s[i] to either '(' or ')'.\n",
    "Return true if you can make s a valid parentheses string. Otherwise, return false.\n",
    "\n",
    "### Approach\n",
    "\n",
    "Check from left to right:\n",
    "Traverse the string, treating every `(` and unlocked position (0) as potential open brackets.\n",
    "If the number of close brackets `)` ever exceeds the available open brackets, the string cannot be valid.\n",
    "\n",
    "\n",
    "Check from right to left:\n",
    "Traverse the string in reverse, treating every `)` and unlocked position (0) as potential close brackets.\n",
    "If the number of open brackets `(` ever exceeds the available close brackets, the string cannot be valid.\n",
    "\n",
    "If both passes succeed, it means the flexible positions can accommodate the required parentheses to balance the string."
   ]
  },
  {
   "cell_type": "code",
   "metadata": {
    "ExecuteTime": {
     "end_time": "2025-01-17T01:09:35.466789Z",
     "start_time": "2025-01-17T01:09:35.439587Z"
    }
   },
   "source": [
    "def can_be_valid(s: str, locked: str):\n",
    "    s_length = len(s)\n",
    "\n",
    "    # If length of string is odd, return false.\n",
    "    if s_length % 2 == 1:\n",
    "        return False\n",
    "    \n",
    "    # check left to right: if close par ever exceeds open, return false\n",
    "    open_count = 0\n",
    "    for i in range(s_length):\n",
    "        if s[i] == '(' or locked[i] == '0':\n",
    "            open_count += 1\n",
    "        else:\n",
    "            open_count -= 1\n",
    "        \n",
    "        if open_count < 0:\n",
    "            return False\n",
    "        \n",
    "    # check right to left: if open par ever exceeds close, return false\n",
    "    close_count = 0\n",
    "    for i in range(s_length - 1, -1, -1):\n",
    "        if s[i] == ')' or locked[i] == '0':\n",
    "            close_count += 1\n",
    "        else:\n",
    "            close_count -= 1\n",
    "        \n",
    "        if close_count < 0:\n",
    "            return False\n",
    "\n",
    "    return True\n",
    "\n",
    "# print(canBeValid(\"))()))\", \"110100\"))\n",
    "# print(canBeValid(\"()()\", \"0000\"))\n",
    "print(can_be_valid(\")(\", \"00\"))"
   ],
   "outputs": [
    {
     "name": "stdout",
     "output_type": "stream",
     "text": [
      "True\n"
     ]
    }
   ],
   "execution_count": 13
  },
  {
   "cell_type": "markdown",
   "metadata": {},
   "source": [
    "# January 13, 2025\n",
    "\n",
    "[3223. Minimum Length of String After Operations (Medium)](https://leetcode.com/problems/minimum-length-of-string-after-operations/description/?envType=daily-question&envId=2025-01-13)\n",
    "\n",
    "\n",
    "### Instruction\n",
    "You are given a string s.\n",
    "\n",
    "You can perform the following process on s any number of times:\n",
    "\n",
    "Choose an index i in the string such that there is at least one character to the left of index i that is equal to s[i], and at least one character to the right that is also equal to s[i].\n",
    "Delete the closest character to the left of index i that is equal to s[i].\n",
    "Delete the closest character to the right of index i that is equal to s[i].\n",
    "Return the minimum length of the final string s that you can achieve.\n",
    "\n",
    "### Approach\n",
    "Make a set of letter in s. Statistically, is `len(s) > 100`, we might as well make a set of all letters in the alphabet.\n",
    "\n",
    "Now each letter can either be none, 1, or 2 since beyond that and we to remove every pair in the excess. \n",
    "Hence, to count the occurence of each letter, we'll get its remainder 2 value——if 1 then 1, if 0 then 2. "
   ]
  },
  {
   "cell_type": "code",
   "metadata": {
    "ExecuteTime": {
     "end_time": "2025-01-17T01:09:35.666841Z",
     "start_time": "2025-01-17T01:09:35.636195Z"
    }
   },
   "source": [
    "# print(ord('a')) # 97\n",
    "\n",
    "def minimum_length(s: str) -> int:\n",
    "    # make a set of letters in s\n",
    "    if len(s) < 100:\n",
    "        letter_set = set(s)\n",
    "    else:\n",
    "        letter_set = {'a','b','c','d','e','f','g','h','i','j','k','l','m','n','o','p','q','r','s','t','u','v','w','x','y','z'}\n",
    "    \n",
    "    # sum up the count of each letter depending on conditions\n",
    "    count = 0\n",
    "    for letter in letter_set:\n",
    "        letter_count = s.count(letter)\n",
    "        # if 0, add none\n",
    "        if letter_count == 0:\n",
    "            continue\n",
    "\n",
    "        # else add 1 or 2\n",
    "        count += 1 if letter_count % 2 == 1 else 2\n",
    "\n",
    "    return count\n",
    "\n",
    "    \n",
    "\n",
    "print(minimum_length(\"abaacbcbb\"))"
   ],
   "outputs": [
    {
     "name": "stdout",
     "output_type": "stream",
     "text": [
      "5\n"
     ]
    }
   ],
   "execution_count": 14
  },
  {
   "cell_type": "markdown",
   "metadata": {},
   "source": [
    "# January 14, 2025\n",
    "\n",
    "[2657. Find the Prefix Common Array of Two Arrays (Medium)](https://leetcode.com/problems/minimum-length-of-string-after-operations/description/?envType=daily-question&envId=2025-01-13)\n",
    "\n",
    "\n",
    "### Instruction\n",
    "You are given two 0-indexed integer permutations A and B of length n.\n",
    "\n",
    "A prefix common array of A and B is an array C such that C[i] is equal to the count of numbers that are present at or before the index i in both A and B.\n",
    "\n",
    "Return the prefix common array of A and B.\n",
    "\n",
    "A sequence of n integers is called a permutation if it contains all integers from 1 to n exactly once.\n",
    "\n",
    "\n",
    "### Approach\n",
    "Use a set for arrays A and B to record the prefixes as we iterate through arrays. The count of common prefixes is basically the value of the previous index **plus**:\n",
    "- 1 if A[1] == B[i]\n",
    "- else +1 if A[i] in setB and +1 if B[i] in setA"
   ]
  },
  {
   "cell_type": "code",
   "metadata": {
    "ExecuteTime": {
     "end_time": "2025-01-17T01:09:36.164375Z",
     "start_time": "2025-01-17T01:09:35.887598Z"
    }
   },
   "source": [
    "from typing import List\n",
    "\n",
    "def find_the_prefix_common_array(a: List[int], b: List[int]) -> List[int]:\n",
    "    set_a = set()\n",
    "    set_b = set()\n",
    "    c = []\n",
    "    count = 0\n",
    "\n",
    "    for i in range(len(a)):\n",
    "        set_a.add(a[i])\n",
    "        set_b.add(b[i])\n",
    "\n",
    "        # if both are equal, there is one new common\n",
    "        if a[i] == b[i]:\n",
    "            count += 1\n",
    "\n",
    "        # account for current if common in the other array\n",
    "        else:\n",
    "            count += 1 if a[i] in set_b else 0   \n",
    "            count += 1 if b[i] in set_a else 0\n",
    "\n",
    "        c.append(count)\n",
    "\n",
    "    return c\n",
    "\n",
    "\n",
    "print(find_the_prefix_common_array([1, 3, 2, 4], [3, 1, 2, 4]))\n"
   ],
   "outputs": [
    {
     "name": "stdout",
     "output_type": "stream",
     "text": [
      "[0, 2, 3, 4]\n"
     ]
    }
   ],
   "execution_count": 15
  },
  {
   "cell_type": "markdown",
   "metadata": {},
   "source": [
    "# January 15, 2025\n",
    "\n",
    "[2429. Minimize XOR (Medium)](https://leetcode.com/problems/minimize-xor/description/?envType=daily-question&envId=2025-01-15)\n",
    "\n",
    "\n",
    "### Instruction\n",
    "Given two positive integers num1 and num2, find the positive integer x such that:\n",
    "\n",
    "x has the same number of set bits as num2, and\n",
    "The value x XOR num1 is minimal.\n",
    "Note that XOR is the bitwise XOR operation.\n",
    "\n",
    "Return the integer x. The test cases are generated such that x is uniquely determined.\n",
    "\n",
    "The number of set bits of an integer is the number of 1's in its binary representation.\n",
    "\n",
    "\n",
    "### Approach\n",
    "???"
   ]
  },
  {
   "cell_type": "code",
   "metadata": {
    "ExecuteTime": {
     "end_time": "2025-01-17T01:09:36.302845Z",
     "start_time": "2025-01-17T01:09:36.289272Z"
    }
   },
   "source": [
    "class Solution:\n",
    "    def minimize_xor(self, num1: int, num2: int) -> int:\n",
    "        result_xor = 0\n",
    "\n",
    "        target_set_bits_count = bin(num2).count(\"1\")\n",
    "        set_bits_count = 0\n",
    "        current_bit = 31  # Start from the most significant bit.\n",
    "\n",
    "        # While result has fewer set bits than num2\n",
    "        while set_bits_count < target_set_bits_count:\n",
    "            # If the current bit of num1 is set or we must set all remaining bits in result\n",
    "            if self._is_set(num1, current_bit) or (\n",
    "                target_set_bits_count - set_bits_count > current_bit\n",
    "            ):\n",
    "                result_xor = self._set_bit(result_xor, current_bit)\n",
    "                set_bits_count += 1\n",
    "            current_bit -= 1  # Move to the next bit.\n",
    "\n",
    "        return result_xor\n",
    "\n",
    "    # Helper function to check if the given bit position in x is set (1).\n",
    "    def _is_set(self, x: int, bit: int) -> bool:\n",
    "        return (x & (1 << bit)) != 0\n",
    "\n",
    "    # Helper function to set the given bit position in x to 1.\n",
    "    def _set_bit(self, x: int, bit: int):\n",
    "        return x | (1 << bit)\n",
    "    \n",
    "\n",
    "\n",
    "solution = Solution() \n",
    "print(solution.minimize_xor(3, 5))"
   ],
   "outputs": [
    {
     "name": "stdout",
     "output_type": "stream",
     "text": [
      "3\n"
     ]
    }
   ],
   "execution_count": 16
  },
  {
   "cell_type": "markdown",
   "metadata": {},
   "source": [
    "# January 16, 2025\n",
    "\n",
    "[2425. Bitwise XOR of All Pairings (Medium)](https://leetcode.com/problems/bitwise-xor-of-all-pairings/description/?envType=daily-question&envId=2025-01-16)\n",
    "\n",
    "\n",
    "### Instruction\n",
    "You are given two 0-indexed arrays, nums1 and nums2, consisting of non-negative integers. There exists another array, nums3, which contains the bitwise XOR of all pairings of integers between nums1 and nums2 (every integer in nums1 is paired with every integer in nums2 exactly once).\n",
    "\n",
    "Return the bitwise XOR of all integers in nums3.\n",
    "\n",
    "\n",
    "### Approach\n",
    "Given integer n, `n XOR n = 0` while `n XOR n XOR n = 0`. The key observation is that if n is XORed to itself for even times, the result is 0, while if odd, then result is n.\n",
    "This insight is key because **it simplifies the equation.**\n",
    "\n",
    "For instance, given nums1 = [2,1,3], nums2 = [10,2,5,0]:\n",
    "```\n",
    "[2,1,3] XOR [10,2,5,0] == (2^10 ^ 2^2 ^ 2^5 ^ 2^0) ^ (1^10 ^ 1^2 ^ 1^5 ^ 1^0) ^ (3^10 ^ 3^2 ^ 3^5 ^ 3^0)\n",
    "                       == 0 ^ (10^2^5^0)\n",
    "```\n",
    "\n",
    "Each num in nums1 will be XORed to itself even times (even since nums2 has even nums). Hence array would end up as 0.\n",
    "In contrast, each num in nums2 will be XORed to itself odd times (even since nums1 has odd nums). Hence array would end up as itself."
   ]
  },
  {
   "cell_type": "code",
   "metadata": {
    "ExecuteTime": {
     "end_time": "2025-01-17T01:09:36.457413Z",
     "start_time": "2025-01-17T01:09:36.440085Z"
    }
   },
   "source": [
    "from typing import List\n",
    "\n",
    "class SolutionJan16:\n",
    "    def xor_all_nums(self, nums1: List[int], nums2: List[int]) -> int:\n",
    "        ans = 0\n",
    "\n",
    "        # if nums2 has even number of elements, nums1 is 0 else itself\n",
    "        if len(nums2) & 1:\n",
    "            for num1 in nums1:\n",
    "                ans ^= num1 \n",
    "\n",
    "        # if nums1 has even number of elements, nums2 is 0 else itself\n",
    "        if len(nums1) & 1:\n",
    "            for num2 in nums2:\n",
    "                ans ^= num2 \n",
    "\n",
    "        return ans\n",
    "\n",
    "solution16 = SolutionJan16()\n",
    "\n",
    "ans = solution16.xor_all_nums([1, 2], [3, 4])\n",
    "print(ans)\n",
    "\n",
    "ans = solution16.xor_all_nums([2, 1, 3], [10, 2, 5, 0])\n",
    "print(ans)\n",
    "\n",
    "ans = solution16.xor_all_nums([8, 6, 29, 2, 26, 16, 15, 29], [24, 12, 12])\n",
    "print(ans)"
   ],
   "outputs": [
    {
     "name": "stdout",
     "output_type": "stream",
     "text": [
      "0\n",
      "13\n",
      "9\n"
     ]
    }
   ],
   "execution_count": 17
  },
  {
   "metadata": {},
   "cell_type": "markdown",
   "source": [
    "# January 17, 2025\n",
    "[2683. Neighboring Bitwise XOR (Medium)](https://leetcode.com/problems/neighboring-bitwise-xor/description/?envType=daily-question&envId=2025-01-17)\n",
    "\n",
    "\n",
    "### Instruction\n",
    "A 0-indexed array derived with length n is derived by computing the bitwise XOR (⊕) of adjacent values in a binary array original of length n.\n",
    "\n",
    "Specifically, for each index i in the range [0, n - 1]:\n",
    "\n",
    "If i = n - 1, then derived[i] = original[i] ⊕ original[0].\n",
    "Otherwise, derived[i] = original[i] ⊕ original[i + 1].\n",
    "Given an array derived, your task is to determine whether there exists a valid binary array original that could have formed derived.\n",
    "\n",
    "Return true if such an array exists or false otherwise.\n",
    "\n",
    "A binary array is an array containing only 0's and 1's"
   ]
  },
  {
   "metadata": {},
   "cell_type": "markdown",
   "source": [
    "### Approach #1\n",
    "A property of XOR is that if `c == aXORb`, then `a == cXORb`, `b == cXORa`.\n",
    "\n",
    "Hence, whereas `derived[i] == orginal[i] XOR original[i+1]` we can form the original array using `original[i+1] == derived[i] XOR orginal[i]`. \n",
    "\n",
    "Now, the original[0] can be either 1 or 0. That said, we have to form two arrays——one where `original[0] == 0` and another where `original[0] == 1`\n",
    "named `org_0` and `org_1` respectively. If any of the arrays can produced `derived[]`, then it returns true.\n",
    "\n",
    "Note that we don't have to check `derived[i] == orginal[i] XOR original[i+1]` for every element in derived. REMEMBER from i=1 to i=n-1, we used \n",
    "`original[i+1] == derived[i] XOR orginal[i]` and hence we are already certain that `derived[i] == orginal[i] XOR original[i+1]` for every element \n",
    "from i=1 to i=n-1. All we really need to confirm is whether `derived[n-1] == orginal[0] XOR original[n-1]` is true. \n"
   ]
  },
  {
   "metadata": {
    "ExecuteTime": {
     "end_time": "2025-01-17T05:33:03.452022Z",
     "start_time": "2025-01-17T05:33:03.437100Z"
    }
   },
   "cell_type": "code",
   "source": [
    "# APPROACH 1\n",
    "\n",
    "def does_valid_array_exist(derived: List[int]) -> bool:\n",
    "    len_derived = len(derived)\n",
    "    \n",
    "    # form original array (org_0) where original[0] == 0\n",
    "    original = [0]\n",
    "    for i in range(len_derived - 1):\n",
    "        original.append(derived[i] ^ original[i])\n",
    "    \n",
    "    # if org_0 —> derived, return true \n",
    "    if derived[-1] == (original[0] ^ original[-1]):\n",
    "        return True\n",
    "    \n",
    "    # form original array (org_1) where original[0] == 1\n",
    "    original = [1]\n",
    "    for i in range(len_derived - 1):\n",
    "        original.append(derived[i] ^ original[i])\n",
    "    \n",
    "    # if org_1 —> derived, return true \n",
    "    return derived[-1] == (original[0] ^ original[-1])\n",
    "\n",
    "\n",
    "answer17 = does_valid_array_exist([1,1])\n",
    "print(answer17)"
   ],
   "outputs": [
    {
     "name": "stdout",
     "output_type": "stream",
     "text": [
      "True\n"
     ]
    }
   ],
   "execution_count": 65
  },
  {
   "metadata": {},
   "cell_type": "markdown",
   "source": [
    "### Approach #2\n",
    "Whereas `derived[i] == orginal[i] XOR original[i+1]` for every element in derived:\n",
    "\n",
    "```\n",
    "derived[0] = original[0] XOR original[1]\n",
    "derived[1] = original[1] XOR original[2]\n",
    "derived[2] = original[2] XOR original[3]\n",
    "...\n",
    "derived[n-1] = original[n-1] XOR original[0]\n",
    "```\n",
    "\n",
    "Notice that every element in original appears twice. Now, since XOR is commutative, associative, and `aXORa == 0`, \n",
    "the **cumulative XOR** of derived must be = 0:\n",
    "```\n",
    "cumulativeXOR(derived) = derived[0] XOR derived[0] XOR derived[1] \n",
    "                       = (original[0] XOR original[1]) XOR (original[1] XOR original[2]) XOR (original[2] XOR original[0])\n",
    "\n",
    "                       = original[0] XOR original[0] XOR original[1] XOR original[1] XOR original[2] XOR original[2]\n",
    "                       = 0 XOR 0 XOR 0 XOR 0\n",
    "                       = 0\n",
    "```\n"
   ]
  },
  {
   "metadata": {
    "ExecuteTime": {
     "end_time": "2025-01-17T05:59:03.191062Z",
     "start_time": "2025-01-17T05:59:03.180056Z"
    }
   },
   "cell_type": "code",
   "source": [
    "# APPROACH 2\n",
    "\n",
    "def does_valid_array_exist(derived: List[int]) -> bool:\n",
    "    cumulative_xor = 0\n",
    "    \n",
    "    for bit in derived:\n",
    "        cumulative_xor ^= bit\n",
    "        \n",
    "    return cumulative_xor == 0\n",
    "\n",
    "\n",
    "answer17 = does_valid_array_exist([1,1])\n",
    "print(answer17)"
   ],
   "outputs": [
    {
     "name": "stdout",
     "output_type": "stream",
     "text": [
      "True\n"
     ]
    }
   ],
   "execution_count": 68
  },
  {
   "metadata": {},
   "cell_type": "markdown",
   "source": [
    "# January 18, 2025\n",
    "\n",
    "[1368. Minimum Cost to Make at Least One Valid Path in a Grid (Hard)](https://leetcode.com/problems/minimum-cost-to-make-at-least-one-valid-path-in-a-grid/description/?envType=daily-question&envId=2025-01-18)\n",
    "\n",
    "\n",
    "### Instruction\n",
    "Given an m x n grid. Each cell of the grid has a sign pointing to the next cell you should visit if you are currently in this cell. The sign of grid[i][j] can be:\n",
    "\n",
    "- 1 which means go to the cell to the right. (i.e go from grid[i][j] to grid[i][j + 1])\n",
    "- 2 which means go to the cell to the left. (i.e go from grid[i][j] to grid[i][j - 1])\n",
    "- 3 which means go to the lower cell. (i.e go from grid[i][j] to grid[i + 1][j])\n",
    "- 4 which means go to the upper cell. (i.e go from grid[i][j] to grid[i - 1][j])\n",
    "\n",
    "Notice that there could be some signs on the cells of the grid that point outside the grid.\n",
    "\n",
    "You will initially start at the upper left cell (0, 0). A valid path in the grid is a path that starts from the upper left cell (0, 0) and ends at the bottom-right cell (m - 1, n - 1) following the signs on the grid. The valid path does not have to be the shortest.\n",
    "\n",
    "You can modify the sign on a cell with cost = 1. You can modify the sign on a cell one time only.\n",
    "\n",
    "Return the minimum cost to make the grid have at least one valid path."
   ]
  },
  {
   "metadata": {
    "ExecuteTime": {
     "end_time": "2025-01-22T14:51:58.613144Z",
     "start_time": "2025-01-22T14:51:58.563635Z"
    }
   },
   "cell_type": "code",
   "source": [
    "from typing import List\n",
    "import collections\n",
    "\n",
    "class Solution18:\n",
    "    # direction vectors matching 1,2,3,4 any grid\n",
    "    _directions = [(0, 1), (0, -1), (1, 0), (-1, 0)]\n",
    "\n",
    "    def min_cost(self, grid: List[List[int]]) -> int:\n",
    "        rows, cols = len(grid), len(grid[0])\n",
    "        \n",
    "        # initialize deque to index (0,0)\n",
    "        deque = collections.deque([(0,0)])\n",
    "        \n",
    "        # initialize cost grid to the largest float\n",
    "        cost_grid = [[float(\"inf\")] * cols for row in range(rows)]\n",
    "        cost_grid[0][0] = 0\n",
    "        \n",
    "        while deque:\n",
    "            row, col = deque.popleft()\n",
    "            cost = cost_grid[row][col]\n",
    "            \n",
    "            # check all the adjacent cells of the current cell\n",
    "            for index, (x, y) in enumerate(self._directions):\n",
    "                new_row = row + x\n",
    "                new_col = col + y\n",
    "                add_cost = 0 if grid[row][col] == index + 1 else 1\n",
    "                \n",
    "                # if the coordinate is within the grid and a better path is found\n",
    "                if (self._is_valid_coordinate(new_row, new_col, rows, cols) \n",
    "                        and cost + add_cost < cost_grid[new_row][new_col]):\n",
    "                    \n",
    "                    # if the current cell 'points' to this adjacent cell, add front to deque, else add last\n",
    "                    if add_cost == 0:\n",
    "                        deque.appendleft((new_row, new_col))\n",
    "                    else:\n",
    "                        deque.append((new_row, new_col))\n",
    "                        \n",
    "                    \n",
    "                    cost_grid[new_row][new_col] = cost + add_cost\n",
    "        \n",
    "        return cost_grid[-1][-1]\n",
    "    \n",
    "    def _is_valid_coordinate(self, row, col, num_rows, num_cols) -> bool: \n",
    "        return 0 <= row < num_rows and 0 <= col < num_cols\n",
    "\n",
    "\n",
    "solution18 = Solution18()\n",
    "solution18.min_cost([[1,1,1],[3,3,3],[1,1,1]])"
   ],
   "outputs": [
    {
     "name": "stdout",
     "output_type": "stream",
     "text": [
      "[0][0]\n",
      "cost = 0 | cost_grid[0][1] = inf --> cost_grid[0][1] = 0\n",
      "cost = 1 | cost_grid[1][0] = inf --> cost_grid[1][0] = 1\n",
      "[[0, 0, inf], [1, inf, inf], [inf, inf, inf]]\n",
      "\n",
      "[0][1]\n",
      "cost = 0 | cost_grid[0][2] = inf --> cost_grid[0][2] = 0\n",
      "cost = 1 | cost_grid[1][1] = inf --> cost_grid[1][1] = 1\n",
      "[[0, 0, 0], [1, 1, inf], [inf, inf, inf]]\n",
      "\n",
      "[0][2]\n",
      "cost = 1 | cost_grid[1][2] = inf --> cost_grid[1][2] = 1\n",
      "[[0, 0, 0], [1, 1, 1], [inf, inf, inf]]\n",
      "\n",
      "[1][0]\n",
      "cost = 1 | cost_grid[2][0] = inf --> cost_grid[2][0] = 1\n",
      "[[0, 0, 0], [1, 1, 1], [1, inf, inf]]\n",
      "\n",
      "[2][0]\n",
      "cost = 1 | cost_grid[2][1] = inf --> cost_grid[2][1] = 1\n",
      "[[0, 0, 0], [1, 1, 1], [1, 1, inf]]\n",
      "\n",
      "[2][1]\n",
      "cost = 1 | cost_grid[2][2] = inf --> cost_grid[2][2] = 1\n",
      "[[0, 0, 0], [1, 1, 1], [1, 1, 1]]\n",
      "\n",
      "[2][2]\n",
      "[[0, 0, 0], [1, 1, 1], [1, 1, 1]]\n",
      "\n",
      "[1][1]\n",
      "[[0, 0, 0], [1, 1, 1], [1, 1, 1]]\n",
      "\n",
      "[1][2]\n",
      "[[0, 0, 0], [1, 1, 1], [1, 1, 1]]\n",
      "\n",
      "[[1, 1, 1], [3, 3, 3], [1, 1, 1]]\n",
      "[[0, 0, 0], [1, 1, 1], [1, 1, 1]]\n"
     ]
    },
    {
     "data": {
      "text/plain": [
       "1"
      ]
     },
     "execution_count": 110,
     "metadata": {},
     "output_type": "execute_result"
    }
   ],
   "execution_count": 110
  },
  {
   "metadata": {},
   "cell_type": "markdown",
   "source": ""
  },
  {
   "metadata": {},
   "cell_type": "code",
   "outputs": [],
   "execution_count": null,
   "source": [
    "# January 19, 2025\n",
    "\n",
    "[407. Trapping Rain Water II (Hard)](https://leetcode.com/problems/trapping-rain-water-ii/description/?envType=daily-question&envId=2025-01-19)\n",
    "\n",
    "\n",
    "### Instruction\n",
    "Given an m x n integer matrix heightMap representing the height of each unit cell in a 2D elevation map, return the volume of water it can trap after raining."
   ]
  },
  {
   "metadata": {},
   "cell_type": "code",
   "outputs": [],
   "execution_count": null,
   "source": [
    "class Solution:\n",
    "    # Class to store the height and coordinates of a cell in the grid\n",
    "    class Cell:\n",
    "        def __init__(self, height, row, col):\n",
    "            self.height = height\n",
    "            self.row = row\n",
    "            self.col = col\n",
    "\n",
    "        # Comparison method for the priority queue (min-heap)\n",
    "        def __lt__(self, other):\n",
    "            return self.height < other.height\n",
    "\n",
    "    # Helper function to check if a cell is valid (within grid bounds)\n",
    "    def _is_valid_cell(self, row, col, num_of_rows, num_of_cols):\n",
    "        return 0 <= row < num_of_rows and 0 <= col < num_of_cols\n",
    "\n",
    "    def trapRainWater(self, height_map):\n",
    "        # Direction arrays\n",
    "        d_row = [0, 0, -1, 1]\n",
    "        d_col = [-1, 1, 0, 0]\n",
    "\n",
    "        num_of_rows = len(height_map)\n",
    "        num_of_cols = len(height_map[0])\n",
    "\n",
    "        visited = [[False] * num_of_cols for _ in range(num_of_rows)]\n",
    "\n",
    "        # Priority queue (min-heap) to process boundary cells in increasing height order\n",
    "        boundary = []\n",
    "\n",
    "        # Add the first and last column cells to the boundary and mark them as visited\n",
    "        for i in range(num_of_rows):\n",
    "            heapq.heappush(boundary, self.Cell(height_map[i][0], i, 0))\n",
    "            heapq.heappush(\n",
    "                boundary,\n",
    "                self.Cell(height_map[i][num_of_cols - 1], i, num_of_cols - 1),\n",
    "            )\n",
    "            visited[i][0] = visited[i][num_of_cols - 1] = True\n",
    "\n",
    "        # Add the first and last row cells to the boundary and mark them as visited\n",
    "        for i in range(num_of_cols):\n",
    "            heapq.heappush(boundary, self.Cell(height_map[0][i], 0, i))\n",
    "            heapq.heappush(\n",
    "                boundary,\n",
    "                self.Cell(height_map[num_of_rows - 1][i], num_of_rows - 1, i),\n",
    "            )\n",
    "            visited[0][i] = visited[num_of_rows - 1][i] = True\n",
    "\n",
    "        # Initialize the total water volume to 0\n",
    "        total_water_volume = 0\n",
    "\n",
    "        # Process cells in the boundary (min-heap will always pop the smallest height)\n",
    "        while boundary:\n",
    "            # Pop the cell with the smallest height from the boundary\n",
    "            current_cell = heapq.heappop(boundary)\n",
    "\n",
    "            current_row = current_cell.row\n",
    "            current_col = current_cell.col\n",
    "            min_boundary_height = current_cell.height\n",
    "\n",
    "            # Explore all 4 neighboring cells\n",
    "            for direction in range(4):\n",
    "                # Calculate the row and column of the neighbor\n",
    "                neighbor_row = current_row + d_row[direction]\n",
    "                neighbor_col = current_col + d_col[direction]\n",
    "\n",
    "                # Check if the neighbor is within the grid bounds and not yet visited\n",
    "                if (\n",
    "                    self._is_valid_cell(\n",
    "                        neighbor_row, neighbor_col, num_of_rows, num_of_cols\n",
    "                    )\n",
    "                    and not visited[neighbor_row][neighbor_col]\n",
    "                ):\n",
    "                    # Get the height of the neighbor cell\n",
    "                    neighbor_height = height_map[neighbor_row][neighbor_col]\n",
    "\n",
    "                    # If the neighbor's height is less than the current boundary height, water can be trapped\n",
    "                    if neighbor_height < min_boundary_height:\n",
    "                        # Add the trapped water volume\n",
    "                        total_water_volume += (\n",
    "                            min_boundary_height - neighbor_height\n",
    "                        )\n",
    "\n",
    "                    # Push the neighbor into the boundary with updated height (to prevent water leakage)\n",
    "                    heapq.heappush(\n",
    "                        boundary,\n",
    "                        self.Cell(\n",
    "                            max(neighbor_height, min_boundary_height),\n",
    "                            neighbor_row,\n",
    "                            neighbor_col,\n",
    "                        ),\n",
    "                    )\n",
    "                    visited[neighbor_row][neighbor_col] = True\n",
    "\n",
    "        # Return the total amount of trapped water\n",
    "        return total_water_volume"
   ]
  },
  {
   "metadata": {},
   "cell_type": "markdown",
   "source": ""
  },
  {
   "metadata": {},
   "cell_type": "markdown",
   "source": [
    "# January 20, 2025\n",
    "\n",
    "[2661. First Completely Painted Row or Column (Medium)](https://leetcode.com/problems/first-completely-painted-row-or-column/description/?envType=daily-question&envId=2025-01-20)\n",
    "\n",
    "\n",
    "### Instruction\n",
    "You are given a 0-indexed integer array arr, and an m x n integer matrix mat. arr and mat both contain all the integers in the range [1, m * n].\n",
    "\n",
    "Go through each index i in arr starting from index 0 and paint the cell in mat containing the integer arr[i].\n",
    "\n",
    "Return the smallest index i at which either a row or a column will be completely painted in mat."
   ]
  },
  {
   "metadata": {},
   "cell_type": "code",
   "outputs": [],
   "execution_count": null,
   "source": [
    "class Solution:\n",
    "    def firstCompleteIndex(self, arr, mat):\n",
    "        num_rows, num_cols = len(mat), len(mat[0])\n",
    "        num_to_pos = {}\n",
    "        # Populate the num_to_pos map by iterating over the matrix\n",
    "        for row in range(num_rows):\n",
    "            for col in range(num_cols):\n",
    "                value = mat[row][col]\n",
    "                num_to_pos[value] = (row, col)\n",
    "\n",
    "        for i in range(len(arr)):\n",
    "            num = arr[i]\n",
    "            row, col = num_to_pos[num]\n",
    "            mat[row][col] = -mat[row][col]  # mark as seen\n",
    "\n",
    "            # Check if the row or column is completely painted\n",
    "            if self._check_row(row, mat) or self._check_column(col, mat):\n",
    "                return i\n",
    "\n",
    "        # This line will never be reached as per the problem statement\n",
    "        return -1\n",
    "\n",
    "    def _check_row(self, row, mat):\n",
    "        # Return true if row is completely seen\n",
    "        for col in range(len(mat[0])):\n",
    "            if mat[row][col] > 0:\n",
    "                return False\n",
    "        return True\n",
    "\n",
    "    def _check_column(self, col, mat):\n",
    "        # Return true if col is completely seen\n",
    "        for row in range(len(mat)):\n",
    "            if mat[row][col] > 0:\n",
    "                return False\n",
    "        return True"
   ]
  },
  {
   "metadata": {},
   "cell_type": "markdown",
   "source": ""
  },
  {
   "metadata": {},
   "cell_type": "markdown",
   "source": [
    "# January 21, 2025\n",
    "\n",
    "[2017. Grid Game (Medium)](https://leetcode.com/problems/grid-game/description/?envType=daily-question&envId=2025-01-21)\n",
    "\n",
    "\n",
    "### Instruction\n",
    "You are given a 0-indexed 2D array grid of size 2 x n, where grid[r][c] represents the number of points at position (r, c) on the matrix. Two robots are playing a game on this matrix.\n",
    "\n",
    "Both robots initially start at (0, 0) and want to reach (1, n-1). Each robot may only move to the right ((r, c) to (r, c + 1)) or down ((r, c) to (r + 1, c)).\n",
    "\n",
    "At the start of the game, the first robot moves from (0, 0) to (1, n-1), collecting all the points from the cells on its path. For all cells (r, c) traversed on the path, grid[r][c] is set to 0. Then, the second robot moves from (0, 0) to (1, n-1), collecting the points on its path. Note that their paths may intersect with one another.\n",
    "\n",
    "The first robot wants to minimize the number of points collected by the second robot. In contrast, the second robot wants to maximize the number of points it collects. If both robots play optimally, return the number of points collected by the second robot.\n",
    "\n",
    " "
   ]
  },
  {
   "metadata": {},
   "cell_type": "markdown",
   "source": [
    "# January 22, 2025\n",
    "\n",
    "[1765. Map of Highest Peak (Medium)](https://leetcode.com/problems/map-of-highest-peak/description/?envType=daily-question&envId=2025-01-22)\n",
    "\n",
    "\n",
    "### Instruction\n",
    "You are given an integer matrix isWater of size m x n that represents a map of land and water cells.\n",
    "\n",
    "If isWater[i][j] == 0, cell (i, j) is a land cell.\n",
    "If isWater[i][j] == 1, cell (i, j) is a water cell.\n",
    "You must assign each cell a height in a way that follows these rules:\n",
    "\n",
    "The height of each cell must be non-negative.\n",
    "If the cell is a water cell, its height must be 0.\n",
    "Any two adjacent cells must have an absolute height difference of at most 1. A cell is adjacent to another cell if the former is directly north, east, south, or west of the latter (i.e., their sides are touching).\n",
    "Find an assignment of heights such that the maximum height in the matrix is maximized.\n",
    "\n",
    "Return an integer matrix height of size m x n where height[i][j] is cell (i, j)'s height. If there are multiple solutions, return any of them.\n",
    "\n",
    " "
   ]
  }
 ],
 "metadata": {
  "kernelspec": {
   "display_name": "Python 3",
   "language": "python",
   "name": "python3"
  },
  "language_info": {
   "codemirror_mode": {
    "name": "ipython",
    "version": 3
   },
   "file_extension": ".py",
   "mimetype": "text/x-python",
   "name": "python",
   "nbconvert_exporter": "python",
   "pygments_lexer": "ipython3",
   "version": "3.10.11"
  }
 },
 "nbformat": 4,
 "nbformat_minor": 2
}
